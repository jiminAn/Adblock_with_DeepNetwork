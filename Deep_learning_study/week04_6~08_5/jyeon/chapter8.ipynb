{
  "nbformat": 4,
  "nbformat_minor": 0,
  "metadata": {
    "colab": {
      "name": "chapter8.ipynb",
      "provenance": [],
      "collapsed_sections": []
    },
    "kernelspec": {
      "name": "python3",
      "display_name": "Python 3"
    }
  },
  "cells": [
    {
      "cell_type": "markdown",
      "metadata": {
        "id": "UqPgUH4ZBbRn"
      },
      "source": [
        "# Chapter 8. 이미지를 분류합니다. - 합성곱 신경망\r\n",
        "## 08-1 합성곱 연산에 대해 알아봅니다.\r\n",
        "### 합성곱 구현하기\r\n",
        "#### 1. 넘파이 배열 정의하고 배열 하나 선택해 뒤집기\r\n"
      ]
    },
    {
      "cell_type": "code",
      "metadata": {
        "colab": {
          "base_uri": "https://localhost:8080/"
        },
        "id": "E9pCpHllBljU",
        "outputId": "68255f3a-9b5d-4932-d607-c4d570fe600e"
      },
      "source": [
        "import numpy as np\r\n",
        "w = np.array([2, 1, 5, 3])\r\n",
        "x = np.array([2, 8, 3, 7, 1, 2, 0, 4, 5])\r\n",
        "# 배열 뒤집어주기 \r\n",
        "w_r = np.flip(w)\t# 넘파이의 flip() 함수 사용\t\r\n",
        "print(w_r) \r\n",
        "w_r = w[::-1]\t\t# 슬라이스 연산자 사용\r\n",
        "print(w_r) "
      ],
      "execution_count": 1,
      "outputs": [
        {
          "output_type": "stream",
          "text": [
            "[3 5 1 2]\n",
            "[3 5 1 2]\n"
          ],
          "name": "stdout"
        }
      ]
    },
    {
      "cell_type": "markdown",
      "metadata": {
        "id": "INxHM_4QBv78"
      },
      "source": [
        "#### 2. 넘파이의 점 곱으로 합성곱 수행하기\r\n",
        "x배열을 한칸씩 이동하면서 합성곱 수행하기"
      ]
    },
    {
      "cell_type": "code",
      "metadata": {
        "colab": {
          "base_uri": "https://localhost:8080/"
        },
        "id": "b6frgAnwBx2Q",
        "outputId": "58c25b2d-0b6b-4b7d-922d-a7779bfef215"
      },
      "source": [
        "for i in range(6):\r\n",
        "\tprint(np.dot(x[i:i+4],w_r))"
      ],
      "execution_count": 2,
      "outputs": [
        {
          "output_type": "stream",
          "text": [
            "63\n",
            "48\n",
            "49\n",
            "28\n",
            "21\n",
            "20\n"
          ],
          "name": "stdout"
        }
      ]
    },
    {
      "cell_type": "markdown",
      "metadata": {
        "id": "5xg5zeS3B3_n"
      },
      "source": [
        "#### 3. 싸이파이로 합성곱 수행하기\r\n",
        "싸이파이는 합성곱을 위한 함수 convolve()를 제공한다."
      ]
    },
    {
      "cell_type": "code",
      "metadata": {
        "colab": {
          "base_uri": "https://localhost:8080/"
        },
        "id": "dAlugoq8CWvi",
        "outputId": "2e904e86-fded-41f5-8eea-224a4cabea8d"
      },
      "source": [
        "from scipy.signal import convolve\r\n",
        "convolve(x, w, mode='valid')"
      ],
      "execution_count": 3,
      "outputs": [
        {
          "output_type": "execute_result",
          "data": {
            "text/plain": [
              "array([63, 48, 49, 28, 21, 20])"
            ]
          },
          "metadata": {
            "tags": []
          },
          "execution_count": 3
        }
      ]
    },
    {
      "cell_type": "markdown",
      "metadata": {
        "id": "AtPNeVCuEjVd"
      },
      "source": [
        "### 합성곱 신경망은 진짜 합성곱을 사용하지 않습니다."
      ]
    },
    {
      "cell_type": "code",
      "metadata": {
        "colab": {
          "base_uri": "https://localhost:8080/"
        },
        "id": "KUEAlzz_EnlU",
        "outputId": "ee1ce09c-f101-4601-a0b9-3057dfb22e29"
      },
      "source": [
        "from scipy.signal import correlate\r\n",
        "correlate(x, w, mode='valid')"
      ],
      "execution_count": 4,
      "outputs": [
        {
          "output_type": "execute_result",
          "data": {
            "text/plain": [
              "array([48, 57, 24, 25, 16, 39])"
            ]
          },
          "metadata": {
            "tags": []
          },
          "execution_count": 4
        }
      ]
    },
    {
      "cell_type": "markdown",
      "metadata": {
        "id": "1E4Rws49VWmb"
      },
      "source": [
        "### 패딩과 스트라이드를 이해합니다."
      ]
    },
    {
      "cell_type": "markdown",
      "metadata": {
        "id": "Ke_Citl5VX6u"
      },
      "source": [
        "#### 밸리드 패딩은 원본 배열의 원소가 합성곱 연산에 참여하는 정도가 서로 다릅니다"
      ]
    },
    {
      "cell_type": "code",
      "metadata": {
        "colab": {
          "base_uri": "https://localhost:8080/"
        },
        "id": "oalDEBkEVZey",
        "outputId": "cc36cfb3-78f3-4b64-80a2-29924c063df1"
      },
      "source": [
        "correlate(x, w, mode='valid')"
      ],
      "execution_count": 5,
      "outputs": [
        {
          "output_type": "execute_result",
          "data": {
            "text/plain": [
              "array([48, 57, 24, 25, 16, 39])"
            ]
          },
          "metadata": {
            "tags": []
          },
          "execution_count": 5
        }
      ]
    },
    {
      "cell_type": "markdown",
      "metadata": {
        "id": "e1oDfj1FVcXK"
      },
      "source": [
        "#### 풀 패딩은 원본 배열 요소의 연산 참여도를 동일하게 만듭니다"
      ]
    },
    {
      "cell_type": "code",
      "metadata": {
        "colab": {
          "base_uri": "https://localhost:8080/"
        },
        "id": "Mo3g8I0xVeQ0",
        "outputId": "be0b2133-7374-4956-c0a2-6dfc02900ada"
      },
      "source": [
        "correlate(x, w, mode='full')"
      ],
      "execution_count": 6,
      "outputs": [
        {
          "output_type": "execute_result",
          "data": {
            "text/plain": [
              "array([ 6, 34, 51, 48, 57, 24, 25, 16, 39, 29, 13, 10])"
            ]
          },
          "metadata": {
            "tags": []
          },
          "execution_count": 6
        }
      ]
    },
    {
      "cell_type": "markdown",
      "metadata": {
        "id": "79SKTnvMgwf_"
      },
      "source": [
        "#### 세임 패딩은 출력 배열의 길이를 원본 배열의 길이와 동일하게 만듭니다\r\n",
        "출력 배열의 길이가 원본 배열의 길이와 같아지도록 원본 배열에 제로 패딩을 추가한다. "
      ]
    },
    {
      "cell_type": "code",
      "metadata": {
        "colab": {
          "base_uri": "https://localhost:8080/"
        },
        "id": "8dCZAovLgyEB",
        "outputId": "2f211777-5a1b-416f-8609-835e9352127d"
      },
      "source": [
        "correlate(x, w, mode='same')"
      ],
      "execution_count": 7,
      "outputs": [
        {
          "output_type": "execute_result",
          "data": {
            "text/plain": [
              "array([34, 51, 48, 57, 24, 25, 16, 39, 29])"
            ]
          },
          "metadata": {
            "tags": []
          },
          "execution_count": 7
        }
      ]
    },
    {
      "cell_type": "markdown",
      "metadata": {
        "id": "eJsCNFu8st0K"
      },
      "source": [
        "### 2차원 배열에서 합성곱을 수행합니다.\r\n",
        "싸이파이의 correlate2d() 함수를 사용하여 2차원 배열의 합성곱을 계산할 수 있다."
      ]
    },
    {
      "cell_type": "code",
      "metadata": {
        "colab": {
          "base_uri": "https://localhost:8080/"
        },
        "id": "3czg6j3Jsxcj",
        "outputId": "c038b75d-dc6b-4133-e3b9-6cca5f965fef"
      },
      "source": [
        "from scipy.signal import correlate2d\r\n",
        "x = np.array([[1, 2, 3],\r\n",
        "              [4, 5, 6],\r\n",
        "              [7, 8, 9]])\r\n",
        "w = np.array([[2, 0], [0, 0]])\r\n",
        "correlate2d(x, w, mode='valid')"
      ],
      "execution_count": 8,
      "outputs": [
        {
          "output_type": "execute_result",
          "data": {
            "text/plain": [
              "array([[ 2,  4],\n",
              "       [ 8, 10]])"
            ]
          },
          "metadata": {
            "tags": []
          },
          "execution_count": 8
        }
      ]
    },
    {
      "cell_type": "code",
      "metadata": {
        "colab": {
          "base_uri": "https://localhost:8080/"
        },
        "id": "HSsvaQqDvN_x",
        "outputId": "e158198a-a88b-47fd-8ce3-ffa650f1ba62"
      },
      "source": [
        "correlate2d(x, w, mode='same')"
      ],
      "execution_count": 9,
      "outputs": [
        {
          "output_type": "execute_result",
          "data": {
            "text/plain": [
              "array([[ 2,  4,  6],\n",
              "       [ 8, 10, 12],\n",
              "       [14, 16, 18]])"
            ]
          },
          "metadata": {
            "tags": []
          },
          "execution_count": 9
        }
      ]
    },
    {
      "cell_type": "markdown",
      "metadata": {
        "id": "waU0iTHFIkQB"
      },
      "source": [
        "### 탠서플로로 합성곱을 수행합니다.\r\n",
        "#### 2차원 배열을 4차원 배열로 바꿔 합성곱을 수행합니다\r\n",
        "텐서플로는 4차원 배열의 입력을 기대하기때문에 앞에서의 입력 x와 가중치 w를 넘파이의 reshape() 메소드로 2차원 배열에서 4차원 배열로 바꾼다.  \r\n",
        "또한 텐서플로는 실수형의 입력을 기대하기 때문에 넘파이의 astype() 메소드로 입력의 자료형을 실수로 바꾼다.  \r\n",
        "배치와 컬러 채널은 1"
      ]
    },
    {
      "cell_type": "code",
      "metadata": {
        "id": "Szlju9-sJEv3"
      },
      "source": [
        "import tensorflow as tf\r\n",
        "x_4d = x.astype(np.float).reshape(1, 3, 3, 1)   # 4차원 배열로 바꾸고 실수형으로 바꾸기\r\n",
        "w_4d = w.reshape(2, 2, 1, 1)                    # 4차원 배열로 바꾸기"
      ],
      "execution_count": 10,
      "outputs": []
    },
    {
      "cell_type": "markdown",
      "metadata": {
        "id": "zWi7Er5jJlUI"
      },
      "source": [
        "스트라이드는 1, 패딩은 세임 패딩"
      ]
    },
    {
      "cell_type": "code",
      "metadata": {
        "id": "lO04YxDMJrhR"
      },
      "source": [
        "c_out = tf.nn.conv2d(x_4d, w_4d, strides=1, padding='SAME')"
      ],
      "execution_count": 11,
      "outputs": []
    },
    {
      "cell_type": "markdown",
      "metadata": {
        "id": "EIwwLIrWJ3GS"
      },
      "source": [
        "conv2d 함수는 텐서플로의 Tensor 객체를 리턴한다.  \r\n",
        "(Tensor는 텐서플로에서 다차원 배열을 부르는 것)  \r\n",
        "Tensor 객체의 numpy() 메소드를 이용해서 넘파일 배열로 변환해주는데 편의상 배치 차원과 컬러 차원을 제거하고 (3, 3) 크기로 변환하자."
      ]
    },
    {
      "cell_type": "code",
      "metadata": {
        "colab": {
          "base_uri": "https://localhost:8080/"
        },
        "id": "PNyoYFdpKQKo",
        "outputId": "3f7490bc-7a09-4938-9a36-df48ba9a74a8"
      },
      "source": [
        "c_out.numpy().reshape(3, 3)"
      ],
      "execution_count": 12,
      "outputs": [
        {
          "output_type": "execute_result",
          "data": {
            "text/plain": [
              "array([[ 2.,  4.,  6.],\n",
              "       [ 8., 10., 12.],\n",
              "       [14., 16., 18.]])"
            ]
          },
          "metadata": {
            "tags": []
          },
          "execution_count": 12
        }
      ]
    },
    {
      "cell_type": "markdown",
      "metadata": {
        "id": "xMqzxiraKXkx"
      },
      "source": [
        "2차원 배열로 실습한 correlate2d()의 결과와 같지만 4차원 배열임을 잊지 말자.  \r\n",
        "--> MD문서로"
      ]
    },
    {
      "cell_type": "markdown",
      "metadata": {
        "id": "6Kdyjg2uLdon"
      },
      "source": [
        "## 08-2 풀링 연산에 대해 알아봅니다.\r\n",
        "### 최대 풀링과 평균 풀링을 수행합니다.\r\n",
        "텐서플로의 max_pool2d() 함수를 사용하면 최대 풀링을 수행할 수 있다.  \r\n",
        "먼저 4×4 크기의 배열을 만든 다음 1×4×4×1 크기의 배열로 변형한다. "
      ]
    },
    {
      "cell_type": "code",
      "metadata": {
        "id": "UfGPV9qPPvvg"
      },
      "source": [
        "x = np.array([[1, 2, 3, 4], \r\n",
        "              [5, 6, 7, 8], \r\n",
        "              [9, 10, 11, 12], \r\n",
        "              [13, 14, 15, 16]])\r\n",
        "x = x.reshape(1, 4, 4, 1)"
      ],
      "execution_count": 13,
      "outputs": []
    },
    {
      "cell_type": "markdown",
      "metadata": {
        "id": "1ZVgwXxaQS6H"
      },
      "source": [
        "max_pool2d()에서 풀링의 크기를 ksize 매개변수에, 스트라이드 크기를 strides 매개변수에 지정한다."
      ]
    },
    {
      "cell_type": "code",
      "metadata": {
        "colab": {
          "base_uri": "https://localhost:8080/"
        },
        "id": "Dj5LnWrsagDE",
        "outputId": "ca332650-d88a-47c6-83a3-eadf078b9341"
      },
      "source": [
        "p_out = tf.nn.max_pool2d(x, ksize=2, strides=2, padding='VALID')\r\n",
        "p_out.numpy().reshape(2, 2)   # numpy 배열로 변환한 후 2차원 배열로 변형"
      ],
      "execution_count": 14,
      "outputs": [
        {
          "output_type": "execute_result",
          "data": {
            "text/plain": [
              "array([[ 6.,  8.],\n",
              "       [14., 16.]], dtype=float32)"
            ]
          },
          "metadata": {
            "tags": []
          },
          "execution_count": 14
        }
      ]
    },
    {
      "cell_type": "markdown",
      "metadata": {
        "id": "fnyJHF5ya-CO"
      },
      "source": [
        "풀링층에는 학습되는 가중치가 없다.   \r\n",
        "또한 풀링은 배치차원이나 채널 차원으로 적용되지 않는다.  \r\n",
        "즉, 풀링층을 통과하기 전후로 배치 크기와 채널 크기는 동일하다.  \r\n",
        "*--> MD 문서로*"
      ]
    },
    {
      "cell_type": "markdown",
      "metadata": {
        "id": "kaMTzk8VbYLe"
      },
      "source": [
        "## 08-4 합성곱 신경망을 만들고 훈련합니다.\r\n",
        "### 합성곱 신경망의 역방향 계산 구현하기\r\n",
        "#### 자동 미분의 사용 방법을 알아봅니다\r\n",
        "딥러닝 패키지들은 사용자가 작성한 연산을 계산 그래프 (computation graph)로 만들어 자동 미분 기능을 구현한다.  \r\n",
        "자동 미분 기능을 사용하면 임의의 파이썬 코드나 함수에 대한 미분값을 계산할 수 있다.\r\n",
        "  \r\n",
        "자동 미분 기능을 사용하려면 with 블럭으로 tf.GradientTape() 객체가 감시할 코드를 감싸야 한다.  \r\n",
        "tape 객체는 with 블럭 안에서 일어나는 모든 연산을 기록하고 텐서플로 객체인 tf.Variable 객체를 자동으로 추적한다. \r\n",
        "그래디언트를 계산하려면 미분 대상 객체와 변수를 tape객체의 gradient() 메서드에 전달하면 된다. \r\n"
      ]
    },
    {
      "cell_type": "code",
      "metadata": {
        "colab": {
          "base_uri": "https://localhost:8080/"
        },
        "id": "lFW1kMpY7MOV",
        "outputId": "0d581b4a-88b4-4e38-cf91-fb189317b4c6"
      },
      "source": [
        "x = tf.Variable(np.array([1.0, 2.0, 3.0]))\r\n",
        "with tf.GradientTape() as tape:\r\n",
        "  y = x ** 3 + 2 * x + 5\r\n",
        "\r\n",
        "# 그래디언트를 계산\r\n",
        "print(tape.gradient(y, x))"
      ],
      "execution_count": 15,
      "outputs": [
        {
          "output_type": "stream",
          "text": [
            "tf.Tensor([ 5. 14. 29.], shape=(3,), dtype=float64)\n"
          ],
          "name": "stdout"
        }
      ]
    },
    {
      "cell_type": "markdown",
      "metadata": {
        "id": "oEP1yzjg7m06"
      },
      "source": [
        "--> MD 문서로"
      ]
    },
    {
      "cell_type": "markdown",
      "metadata": {
        "id": "AekfmpH08Ygk"
      },
      "source": [
        "ConvolutionNerwork 클래스의 전체 코드"
      ]
    },
    {
      "cell_type": "code",
      "metadata": {
        "id": "764rja8Fhh4H"
      },
      "source": [
        "import tensorflow as tf\r\n",
        "\r\n",
        "class ConvolutionNetwork:\r\n",
        "    \r\n",
        "    def __init__(self, n_kernels=10, units=10, batch_size=32, learning_rate=0.1):\r\n",
        "        self.n_kernels = n_kernels  # 합성곱의 커널 개수\r\n",
        "        self.kernel_size = 3        # 커널 크기\r\n",
        "        self.optimizer = None       # 옵티마이저\r\n",
        "        self.conv_w = None          # 합성곱 층의 가중치\r\n",
        "        self.conv_b = None          # 합성곱 층의 절편\r\n",
        "        self.units = units          # 은닉층의 뉴런 개수\r\n",
        "        self.batch_size = batch_size  # 배치 크기\r\n",
        "        self.w1 = None              # 은닉층의 가중치\r\n",
        "        self.b1 = None              # 은닉층의 절편\r\n",
        "        self.w2 = None              # 출력층의 가중치\r\n",
        "        self.b2 = None              # 출력층의 절편\r\n",
        "        self.a1 = None              # 은닉층의 활성화 출력\r\n",
        "        self.losses = []            # 훈련 손실\r\n",
        "        self.val_losses = []        # 검증 손실\r\n",
        "        self.lr = learning_rate     # 학습률\r\n",
        "\r\n",
        "    def forpass(self, x):\r\n",
        "        # 3x3 합성곱 연산을 수행합니다.\r\n",
        "        c_out = tf.nn.conv2d(x, self.conv_w, strides=1, padding='SAME') + self.conv_b\r\n",
        "        # 렐루 활성화 함수를 적용합니다.\r\n",
        "        r_out = tf.nn.relu(c_out)\r\n",
        "        # 2x2 최대 풀링을 적용합니다.\r\n",
        "        p_out = tf.nn.max_pool2d(r_out, ksize=2, strides=2, padding='VALID')\r\n",
        "        # 첫 번째 배치 차원을 제외하고 출력을 일렬로 펼칩니다.\r\n",
        "        f_out = tf.reshape(p_out, [x.shape[0], -1])\r\n",
        "        z1 = tf.matmul(f_out, self.w1) + self.b1     # 첫 번째 층의 선형 식을 계산합니다\r\n",
        "        a1 = tf.nn.relu(z1)                          # 활성화 함수를 적용합니다\r\n",
        "        z2 = tf.matmul(a1, self.w2) + self.b2        # 두 번째 층의 선형 식을 계산합니다.\r\n",
        "        return z2\r\n",
        "    \r\n",
        "    def init_weights(self, input_shape, n_classes):\r\n",
        "        g = tf.initializers.glorot_uniform()\r\n",
        "        self.conv_w = tf.Variable(g((3, 3, 1, self.n_kernels)))\r\n",
        "        self.conv_b = tf.Variable(np.zeros(self.n_kernels), dtype=float)\r\n",
        "        n_features = 14 * 14 * self.n_kernels\r\n",
        "        self.w1 = tf.Variable(g((n_features, self.units)))          # (특성 개수, 은닉층의 크기)\r\n",
        "        self.b1 = tf.Variable(np.zeros(self.units), dtype=float)    # 은닉층의 크기\r\n",
        "        self.w2 = tf.Variable(g((self.units, n_classes)))           # (은닉층의 크기, 클래스 개수)\r\n",
        "        self.b2 = tf.Variable(np.zeros(n_classes), dtype=float)     # 클래스 개수\r\n",
        "        \r\n",
        "    def fit(self, x, y, epochs=100, x_val=None, y_val=None):\r\n",
        "        self.init_weights(x.shape, y.shape[1])    # 은닉층과 출력층의 가중치를 초기화합니다.\r\n",
        "        self.optimizer = tf.optimizers.SGD(learning_rate=self.lr)\r\n",
        "        # epochs만큼 반복합니다.\r\n",
        "        for i in range(epochs):\r\n",
        "            print('에포크', i, end=' ')\r\n",
        "            # 제너레이터 함수에서 반환한 미니배치를 순환합니다.\r\n",
        "            batch_losses = []\r\n",
        "            for x_batch, y_batch in self.gen_batch(x, y):\r\n",
        "                print('.', end='')\r\n",
        "                self.training(x_batch, y_batch)\r\n",
        "                # 배치 손실을 기록합니다.\r\n",
        "                batch_losses.append(self.get_loss(x_batch, y_batch))\r\n",
        "            print()\r\n",
        "            # 배치 손실 평균내어 훈련 손실 값으로 저장합니다.\r\n",
        "            self.losses.append(np.mean(batch_losses))\r\n",
        "            # 검증 세트에 대한 손실을 계산합니다.\r\n",
        "            self.val_losses.append(self.get_loss(x_val, y_val))\r\n",
        "\r\n",
        "    # 미니배치 제너레이터 함수\r\n",
        "    def gen_batch(self, x, y):\r\n",
        "        bins = len(x) // self.batch_size                   # 미니배치 횟수\r\n",
        "        indexes = np.random.permutation(np.arange(len(x))) # 인덱스를 섞습니다.\r\n",
        "        x = x[indexes]\r\n",
        "        y = y[indexes]\r\n",
        "        for i in range(bins):\r\n",
        "            start = self.batch_size * i\r\n",
        "            end = self.batch_size * (i + 1)\r\n",
        "            yield x[start:end], y[start:end]   # batch_size만큼 슬라이싱하여 반환합니다.\r\n",
        "            \r\n",
        "    def training(self, x, y):\r\n",
        "        m = len(x)                    # 샘플 개수를 저장합니다.\r\n",
        "        with tf.GradientTape() as tape:\r\n",
        "            z = self.forpass(x)       # 정방향 계산을 수행합니다.\r\n",
        "            # 손실을 계산합니다.\r\n",
        "            loss = tf.nn.softmax_cross_entropy_with_logits(y, z)\r\n",
        "            loss = tf.reduce_mean(loss)\r\n",
        "\r\n",
        "        weights_list = [self.conv_w, self.conv_b,\r\n",
        "                        self.w1, self.b1, self.w2, self.b2]\r\n",
        "        # 가중치에 대한 그래디언트를 계산합니다.\r\n",
        "        grads = tape.gradient(loss, weights_list)\r\n",
        "        # 가중치를 업데이트합니다.\r\n",
        "        self.optimizer.apply_gradients(zip(grads, weights_list))\r\n",
        "   \r\n",
        "    def predict(self, x):\r\n",
        "        z = self.forpass(x)                 # 정방향 계산을 수행합니다.\r\n",
        "        return np.argmax(z.numpy(), axis=1) # 가장 큰 값의 인덱스를 반환합니다.\r\n",
        "    \r\n",
        "    def score(self, x, y):\r\n",
        "        # 예측과 타깃 열 벡터를 비교하여 True의 비율을 반환합니다.\r\n",
        "        return np.mean(self.predict(x) == np.argmax(y, axis=1))\r\n",
        "\r\n",
        "    def get_loss(self, x, y):\r\n",
        "        z = self.forpass(x)                 # 정방향 계산을 수행합니다.\r\n",
        "        # 손실을 계산하여 저장합니다.\r\n",
        "        loss = tf.reduce_mean(tf.nn.softmax_cross_entropy_with_logits(y, z))\r\n",
        "        return loss.numpy()"
      ],
      "execution_count": 24,
      "outputs": []
    },
    {
      "cell_type": "markdown",
      "metadata": {
        "id": "N0ROtbOfrlK2"
      },
      "source": [
        "### 합성곱 신경망 훈련하기\r\n",
        "#### 1. 데이터 세트 불러오기"
      ]
    },
    {
      "cell_type": "code",
      "metadata": {
        "id": "LNtjeFmYM61z"
      },
      "source": [
        "(x_train_all, y_train_all), (x_test, y_test) = tf.keras.datasets.fashion_mnist.load_data()"
      ],
      "execution_count": 26,
      "outputs": []
    },
    {
      "cell_type": "markdown",
      "metadata": {
        "id": "6_94xV49NLnP"
      },
      "source": [
        "#### 2. 훈련 데이터 세트를 훈련 세트와 검증 세트로 나누기"
      ]
    },
    {
      "cell_type": "code",
      "metadata": {
        "id": "88UeDgykNPJG"
      },
      "source": [
        "from sklearn.model_selection import train_test_split\r\n",
        "x_train, x_val, y_train, y_val = train_test_split(x_train_all, y_train_all, stratify=y_train_all, \r\n",
        "                                                  test_size=0.2, random_state=42)"
      ],
      "execution_count": 27,
      "outputs": []
    },
    {
      "cell_type": "markdown",
      "metadata": {
        "id": "UhWQwPFMNhXR"
      },
      "source": [
        "#### 3. 타깃을 원-핫 인코딩으로 변환하기\r\n",
        "합성곱 신경망의 타깃으로 사용하려면 y_train, y_val 배열의 요소들을 원-핫 인코딩으로 변경해야 한다."
      ]
    },
    {
      "cell_type": "code",
      "metadata": {
        "id": "9tyP2L9bNwjP"
      },
      "source": [
        "y_train_encoded = tf.keras.utils.to_categorical(y_train)\r\n",
        "y_val_encoded = tf.keras.utils.to_categorical(y_val)"
      ],
      "execution_count": 28,
      "outputs": []
    },
    {
      "cell_type": "markdown",
      "metadata": {
        "id": "vhaNmkCMN_F2"
      },
      "source": [
        "#### 4. 입력 데이터 준비하기\r\n",
        "합성곱 신경망은 입력데이터의 높이와 너비 차원을 그대로 유지한 채 신경망에 주입할 수 있지만 마지막에 컬러 채널을 추가해야 한다.  \r\n",
        "흑백 이미지에는 컬러 채널이 없지만 명암을 나타내는 1차원 채널이 있다고 가정한다."
      ]
    },
    {
      "cell_type": "code",
      "metadata": {
        "id": "0ICt4uGpXH7i"
      },
      "source": [
        "x_train = x_train.reshape(-1, 28, 28, 1)\r\n",
        "x_val = x_val.reshape(-1, 28, 28, 1)"
      ],
      "execution_count": 29,
      "outputs": []
    },
    {
      "cell_type": "code",
      "metadata": {
        "colab": {
          "base_uri": "https://localhost:8080/"
        },
        "id": "o15QmrwxXSkW",
        "outputId": "d34c7db9-fa15-48ac-f185-c4d6a3337ba3"
      },
      "source": [
        "x_train.shape"
      ],
      "execution_count": 30,
      "outputs": [
        {
          "output_type": "execute_result",
          "data": {
            "text/plain": [
              "(48000, 28, 28, 1)"
            ]
          },
          "metadata": {
            "tags": []
          },
          "execution_count": 30
        }
      ]
    },
    {
      "cell_type": "markdown",
      "metadata": {
        "id": "CdMD1lDIXVvB"
      },
      "source": [
        "#### 5. 입력 데이터 표준화 전처리하기\r\n",
        "입력 데이터를 255로 나누어 0~1사이의 값으로 조정한다. "
      ]
    },
    {
      "cell_type": "code",
      "metadata": {
        "id": "_mCDo_bNaun8"
      },
      "source": [
        "x_train = x_train / 255\r\n",
        "x_val = x_val / 255"
      ],
      "execution_count": 31,
      "outputs": []
    },
    {
      "cell_type": "markdown",
      "metadata": {
        "id": "2GSy2H_ba96l"
      },
      "source": [
        "#### 6. 모델 훈련하기\r\n",
        "합성곱 커널 10개 완전 연결층의 뉴런 100개, 배치 크기 128개, 학습률 0.01로 지정하여 모델을 훈련한다. "
      ]
    },
    {
      "cell_type": "code",
      "metadata": {
        "colab": {
          "base_uri": "https://localhost:8080/"
        },
        "id": "sRKt-Om-a5hL",
        "outputId": "ce053d06-bd3f-4ae2-971c-8b25f04e09ed"
      },
      "source": [
        "cn = ConvolutionNetwork(n_kernels=10, units=100, batch_size=128, learning_rate=0.01)\r\n",
        "cn.fit(x_train, y_train_encoded, \r\n",
        "       x_val=x_val, y_val=y_val_encoded, epochs=20)"
      ],
      "execution_count": 32,
      "outputs": [
        {
          "output_type": "stream",
          "text": [
            "에포크 0 .......................................................................................................................................................................................................................................................................................................................................................................................\n",
            "에포크 1 .......................................................................................................................................................................................................................................................................................................................................................................................\n",
            "에포크 2 .......................................................................................................................................................................................................................................................................................................................................................................................\n",
            "에포크 3 .......................................................................................................................................................................................................................................................................................................................................................................................\n",
            "에포크 4 .......................................................................................................................................................................................................................................................................................................................................................................................\n",
            "에포크 5 .......................................................................................................................................................................................................................................................................................................................................................................................\n",
            "에포크 6 .......................................................................................................................................................................................................................................................................................................................................................................................\n",
            "에포크 7 .......................................................................................................................................................................................................................................................................................................................................................................................\n",
            "에포크 8 .......................................................................................................................................................................................................................................................................................................................................................................................\n",
            "에포크 9 .......................................................................................................................................................................................................................................................................................................................................................................................\n",
            "에포크 10 .......................................................................................................................................................................................................................................................................................................................................................................................\n",
            "에포크 11 .......................................................................................................................................................................................................................................................................................................................................................................................\n",
            "에포크 12 .......................................................................................................................................................................................................................................................................................................................................................................................\n",
            "에포크 13 .......................................................................................................................................................................................................................................................................................................................................................................................\n",
            "에포크 14 .......................................................................................................................................................................................................................................................................................................................................................................................\n",
            "에포크 15 .......................................................................................................................................................................................................................................................................................................................................................................................\n",
            "에포크 16 .......................................................................................................................................................................................................................................................................................................................................................................................\n",
            "에포크 17 .......................................................................................................................................................................................................................................................................................................................................................................................\n",
            "에포크 18 .......................................................................................................................................................................................................................................................................................................................................................................................\n",
            "에포크 19 .......................................................................................................................................................................................................................................................................................................................................................................................\n"
          ],
          "name": "stdout"
        }
      ]
    },
    {
      "cell_type": "markdown",
      "metadata": {
        "id": "IO3vae2MgO_9"
      },
      "source": [
        "#### 7. 훈련, 검증 손실 그래프 그리고 검증 세트의 정확도 확인하기\r\n",
        "검증 세트에 대한 정확도를 측정하면 88%에 가깝다."
      ]
    },
    {
      "cell_type": "code",
      "metadata": {
        "colab": {
          "base_uri": "https://localhost:8080/",
          "height": 279
        },
        "id": "yRQxJsq6ggBQ",
        "outputId": "76359e3f-6b07-47b2-a41e-d4b83ce10f0c"
      },
      "source": [
        "import matplotlib.pyplot as plt\r\n",
        "\r\n",
        "plt.plot(cn.losses)\r\n",
        "plt.plot(cn.val_losses)\r\n",
        "plt.ylabel('loss')\r\n",
        "plt.xlabel('interation')\r\n",
        "plt.legend(['train_loss', 'val_loss'])\r\n",
        "plt.show()"
      ],
      "execution_count": 33,
      "outputs": [
        {
          "output_type": "display_data",
          "data": {
            "image/png": "[encoded data removed]",
            "text/plain": [
              "<Figure size 432x288 with 1 Axes>"
            ]
          },
          "metadata": {
            "tags": [],
            "needs_background": "light"
          }
        }
      ]
    },
    {
      "cell_type": "code",
      "metadata": {
        "colab": {
          "base_uri": "https://localhost:8080/"
        },
        "id": "KZGLTot1g3V-",
        "outputId": "05519732-ec82-4996-b2fa-ed2b9235d2b3"
      },
      "source": [
        "cn.score(x_val, y_val_encoded)"
      ],
      "execution_count": 34,
      "outputs": [
        {
          "output_type": "execute_result",
          "data": {
            "text/plain": [
              "0.88325"
            ]
          },
          "metadata": {
            "tags": []
          },
          "execution_count": 34
        }
      ]
    },
    {
      "cell_type": "markdown",
      "metadata": {
        "id": "adszUxCthAI_"
      },
      "source": [
        "## 08-5 케라스로 합성곱 신경망을 만듭니다.\r\n",
        "### 케라스로 합성곱 신경망 만들기\r\n",
        "케라스의 함성곱층은 Con2D클래스이다.  \r\n",
        "최대 풀링은 MaxPooling2D클래스를 사용하고, 특성 맵을 일렬로 펼칠 때는 Flatten 클래스를 사용한다.\r\n",
        " \r\n"
      ]
    },
    {
      "cell_type": "markdown",
      "metadata": {
        "id": "BxNhu2PuhMAY"
      },
      "source": [
        "#### 1. 필요한 클래스들을 임포트하기"
      ]
    },
    {
      "cell_type": "code",
      "metadata": {
        "id": "KtYxRH1QhJml"
      },
      "source": [
        "from tensorflow.keras.layers import Conv2D, MaxPooling2D, Flatten, Dense"
      ],
      "execution_count": 35,
      "outputs": []
    },
    {
      "cell_type": "markdown",
      "metadata": {
        "id": "quXVLk5PhO0E"
      },
      "source": [
        "#### 2. 합성곱층 쌓기\r\n",
        "Conv2D 클래스의 첫번째 매개변수는 합성곱 커널의 개수, 두번째 매개변수는 합성곱 커널의 크기로 높이와 너비를 튜플로 전달한다.  \r\n",
        "activation 매개변수에는 렐루 활성화 함수를 지정하고, 패딩은 세임 패딩을 사용하는데 이번에는 대소문자를 구분하지 않는다.  \r\n",
        "Sequential 클래스에 층을 처음 추가할때는 배치 차원을 제외한 입력의 크기를 지정한다.  \r\n",
        "여기서는 패션 MNIST 이미지의 높이와 너비, 컬러 채널이 입력의 크기가 된다. "
      ]
    },
    {
      "cell_type": "code",
      "metadata": {
        "id": "bijHkQlKhSFt"
      },
      "source": [
        "conv1 = tf.keras.Sequential()\r\n",
        "conv1.add(Conv2D(10, (3, 3), activation='relu', padding='same', input_shape=(28, 28, 1)))"
      ],
      "execution_count": 50,
      "outputs": []
    },
    {
      "cell_type": "markdown",
      "metadata": {
        "id": "vfoEPHSchvFs"
      },
      "source": [
        "#### 3. 풀링층 쌓기\r\n",
        "MaxPooling2D 클래스의 첫번째 매개변수: 풀링의 높이와 너비를 나타내느 튜플  \r\n",
        "스트라이드는 strides 매개변수에 지정하고 기본값은 풀링의 크기이다.  \r\n",
        "패딩은 padding 매개변수에 지정하고 기본값은 'vaild' 이다.  \r\n",
        "여기서는 스트라이드와 패딩의 기본값을 사용한다. "
      ]
    },
    {
      "cell_type": "code",
      "metadata": {
        "id": "3uFTGFe3hv6N"
      },
      "source": [
        "conv1.add(MaxPooling2D((2, 2)))"
      ],
      "execution_count": 51,
      "outputs": []
    },
    {
      "cell_type": "markdown",
      "metadata": {
        "id": "kHYIaPM0hyA9"
      },
      "source": [
        "#### 4. 완전 연결층에 주입할 수 있도록 특성 맵 펼치기\r\n",
        "배치차원을 제외하고 일렬로 펼치는 작업은 Flatten 클래스로 할 수 있다.  "
      ]
    },
    {
      "cell_type": "code",
      "metadata": {
        "id": "rVX34w8phyx-"
      },
      "source": [
        "conv1.add(Flatten())"
      ],
      "execution_count": 52,
      "outputs": []
    },
    {
      "cell_type": "markdown",
      "metadata": {
        "id": "xB_eoA5Vh1cl"
      },
      "source": [
        "#### 5. 완전 연결층 쌓기\r\n",
        "첫번째 완전 연결층에는 100개의 뉴런을 사용하고 렐루 활성화 함수를 적용한다.  \r\n",
        "마지막 출력층에는 10개의 클래스에 대응하는 10개의 뉴런을 사용하고 소프트맥스 활성화 함수를 적용한다. "
      ]
    },
    {
      "cell_type": "code",
      "metadata": {
        "id": "av3v2GUhh2SR"
      },
      "source": [
        "conv1.add(Dense(100, activation='relu'))\r\n",
        "conv1.add(Dense(10, activation='softmax'))"
      ],
      "execution_count": 53,
      "outputs": []
    },
    {
      "cell_type": "markdown",
      "metadata": {
        "id": "55zKKT8Kh4jK"
      },
      "source": [
        "#### 6. 모델 구조 살펴보기\r\n",
        "모델의 summary() 메소드를 사용하면 conv1 모델의 구조를 조사할 수 있다.  "
      ]
    },
    {
      "cell_type": "code",
      "metadata": {
        "colab": {
          "base_uri": "https://localhost:8080/"
        },
        "id": "1MsmBPpYh5Q9",
        "outputId": "81c1c444-57fa-4aba-c08d-774ebbb56cb9"
      },
      "source": [
        "conv1.summary()"
      ],
      "execution_count": 54,
      "outputs": [
        {
          "output_type": "stream",
          "text": [
            "Model: \"sequential_1\"\n",
            "_________________________________________________________________\n",
            "Layer (type)                 Output Shape              Param #   \n",
            "=================================================================\n",
            "conv2d_1 (Conv2D)            (None, 28, 28, 10)        100       \n",
            "_________________________________________________________________\n",
            "max_pooling2d_4 (MaxPooling2 (None, 14, 14, 10)        0         \n",
            "_________________________________________________________________\n",
            "flatten_1 (Flatten)          (None, 1960)              0         \n",
            "_________________________________________________________________\n",
            "dense_2 (Dense)              (None, 100)               196100    \n",
            "_________________________________________________________________\n",
            "dense_3 (Dense)              (None, 10)                1010      \n",
            "=================================================================\n",
            "Total params: 197,210\n",
            "Trainable params: 197,210\n",
            "Non-trainable params: 0\n",
            "_________________________________________________________________\n"
          ],
          "name": "stdout"
        }
      ]
    },
    {
      "cell_type": "markdown",
      "metadata": {
        "id": "i4kYS7W2iAt_"
      },
      "source": [
        "합성곱층의 출력 크기에서 배치차원이 None인데 그 이유는 훈련할 때 전달되는 샘플 개수에 따라 배치 입력의 개수가 달라지기 때문이다.  \r\n",
        "가중치의 개수를 보면 완전 연결층에 비해 합성곱층의 가중치 개수가 아주 적은데 그렇게 때문에 합성곱층을 여러 개 추가해도 학습할 모델 파라미터의 개수가 크게 늘지 않기 때문에 계산 효율성이 좋다. "
      ]
    },
    {
      "cell_type": "markdown",
      "metadata": {
        "id": "ILqNry1qiCLY"
      },
      "source": [
        "### 합성곱 신경망 모델 훈련하기\r\n",
        "#### 모델 훈련하기 \r\n",
        "정확도를 관찰하기 위해서 metrics 매개변수에 'accuracy'를 리스트로 전달했다."
      ]
    },
    {
      "cell_type": "code",
      "metadata": {
        "id": "buR5bZeNiC82"
      },
      "source": [
        "conv1.compile(optimizer='adam', loss='categorical_crossentropy',metrics=['accuracy'])"
      ],
      "execution_count": 56,
      "outputs": []
    },
    {
      "cell_type": "markdown",
      "metadata": {
        "id": "rR7nthi2iE8T"
      },
      "source": [
        "#### 2. 아담 옵티마이저 사용하기\r\n",
        "이번에는 적응적 학습률 알고리즘 중 하나인 아담 옵티마이저를 사용한다.  \r\n",
        "아담은 Adaptive Moment Estimation을 줄여만든 이름으로 손실 함수의 값이 최적값에 가까워질수록 학습률을 낮춰서 손실 함수의 값이 안정적으로 수렴될 수 있게 한다. "
      ]
    },
    {
      "cell_type": "code",
      "metadata": {
        "colab": {
          "base_uri": "https://localhost:8080/"
        },
        "id": "u_IZEIH2iFj5",
        "outputId": "f61e04c1-43e0-4577-b2f7-240331f0e7d0"
      },
      "source": [
        "history = conv1.fit(x_train, y_train_encoded, epochs=20, validation_data=(x_val, y_val_encoded))"
      ],
      "execution_count": 57,
      "outputs": [
        {
          "output_type": "stream",
          "text": [
            "Epoch 1/20\n",
            "1500/1500 [==============================] - 20s 13ms/step - loss: 0.6084 - accuracy: 0.7848 - val_loss: 0.3370 - val_accuracy: 0.8779\n",
            "Epoch 2/20\n",
            "1500/1500 [==============================] - 19s 13ms/step - loss: 0.3082 - accuracy: 0.8903 - val_loss: 0.2913 - val_accuracy: 0.8957\n",
            "Epoch 3/20\n",
            "1500/1500 [==============================] - 19s 13ms/step - loss: 0.2742 - accuracy: 0.8998 - val_loss: 0.2702 - val_accuracy: 0.9063\n",
            "Epoch 4/20\n",
            "1500/1500 [==============================] - 19s 13ms/step - loss: 0.2360 - accuracy: 0.9115 - val_loss: 0.2667 - val_accuracy: 0.9057\n",
            "Epoch 5/20\n",
            "1500/1500 [==============================] - 19s 13ms/step - loss: 0.2036 - accuracy: 0.9243 - val_loss: 0.2493 - val_accuracy: 0.9119\n",
            "Epoch 6/20\n",
            "1500/1500 [==============================] - 19s 13ms/step - loss: 0.1824 - accuracy: 0.9327 - val_loss: 0.2401 - val_accuracy: 0.9158\n",
            "Epoch 7/20\n",
            "1500/1500 [==============================] - 19s 13ms/step - loss: 0.1641 - accuracy: 0.9404 - val_loss: 0.2445 - val_accuracy: 0.9147\n",
            "Epoch 8/20\n",
            "1500/1500 [==============================] - 19s 13ms/step - loss: 0.1415 - accuracy: 0.9474 - val_loss: 0.2447 - val_accuracy: 0.9166\n",
            "Epoch 9/20\n",
            "1500/1500 [==============================] - 19s 13ms/step - loss: 0.1258 - accuracy: 0.9534 - val_loss: 0.2429 - val_accuracy: 0.9197\n",
            "Epoch 10/20\n",
            "1500/1500 [==============================] - 19s 13ms/step - loss: 0.1166 - accuracy: 0.9574 - val_loss: 0.2611 - val_accuracy: 0.9178\n",
            "Epoch 11/20\n",
            "1500/1500 [==============================] - 19s 13ms/step - loss: 0.1043 - accuracy: 0.9627 - val_loss: 0.2865 - val_accuracy: 0.9128\n",
            "Epoch 12/20\n",
            "1500/1500 [==============================] - 19s 13ms/step - loss: 0.0904 - accuracy: 0.9668 - val_loss: 0.2639 - val_accuracy: 0.9198\n",
            "Epoch 13/20\n",
            "1500/1500 [==============================] - 21s 14ms/step - loss: 0.0815 - accuracy: 0.9705 - val_loss: 0.2917 - val_accuracy: 0.9167\n",
            "Epoch 14/20\n",
            "1500/1500 [==============================] - 19s 13ms/step - loss: 0.0705 - accuracy: 0.9744 - val_loss: 0.2975 - val_accuracy: 0.9206\n",
            "Epoch 15/20\n",
            "1500/1500 [==============================] - 19s 13ms/step - loss: 0.0657 - accuracy: 0.9760 - val_loss: 0.3149 - val_accuracy: 0.9158\n",
            "Epoch 16/20\n",
            "1500/1500 [==============================] - 19s 13ms/step - loss: 0.0568 - accuracy: 0.9797 - val_loss: 0.3439 - val_accuracy: 0.9129\n",
            "Epoch 17/20\n",
            "1500/1500 [==============================] - 19s 13ms/step - loss: 0.0523 - accuracy: 0.9819 - val_loss: 0.3354 - val_accuracy: 0.9173\n",
            "Epoch 18/20\n",
            "1500/1500 [==============================] - 19s 13ms/step - loss: 0.0442 - accuracy: 0.9839 - val_loss: 0.3711 - val_accuracy: 0.9153\n",
            "Epoch 19/20\n",
            "1500/1500 [==============================] - 19s 13ms/step - loss: 0.0407 - accuracy: 0.9863 - val_loss: 0.3583 - val_accuracy: 0.9168\n",
            "Epoch 20/20\n",
            "1500/1500 [==============================] - 19s 13ms/step - loss: 0.0334 - accuracy: 0.9892 - val_loss: 0.3790 - val_accuracy: 0.9186\n"
          ],
          "name": "stdout"
        }
      ]
    },
    {
      "cell_type": "markdown",
      "metadata": {
        "id": "vZCMg8GzrrZd"
      },
      "source": [
        "#### 3. 손실 그래프와 정확도 그래프 확인하기\r\n",
        "마지막 에포크에서 검증 세트의 대한 정확도가 92%로 크게 증가했지만 정확도와 손실을 보니 몇번의 에포크 만에 검증 손실이 크게 증가했다.  \r\n",
        "이는 과대적합이 발생했음을 의미한다."
      ]
    },
    {
      "cell_type": "code",
      "metadata": {
        "colab": {
          "base_uri": "https://localhost:8080/",
          "height": 279
        },
        "id": "hIKf8gKhruwj",
        "outputId": "9a886b22-4526-4c48-f726-ac7720a05ce4"
      },
      "source": [
        "plt.plot(history.history['loss'])\r\n",
        "plt.plot(history.history['val_loss'])\r\n",
        "plt.ylabel('loss')\r\n",
        "plt.xlabel('epoch')\r\n",
        "plt.legend(['train_loss', 'val_loss'])\r\n",
        "plt.show()"
      ],
      "execution_count": 58,
      "outputs": [
        {
          "output_type": "display_data",
          "data": {
            "image/png": "[encoded data removed]",
            "text/plain": [
              "<Figure size 432x288 with 1 Axes>"
            ]
          },
          "metadata": {
            "tags": [],
            "needs_background": "light"
          }
        }
      ]
    },
    {
      "cell_type": "code",
      "metadata": {
        "colab": {
          "base_uri": "https://localhost:8080/",
          "height": 279
        },
        "id": "YdInEw8zsDL1",
        "outputId": "701e4ed7-3374-4925-d43c-05d60f65c8aa"
      },
      "source": [
        "plt.plot(history.history['accuracy'])\r\n",
        "plt.plot(history.history['val_accuracy'])\r\n",
        "plt.ylabel('accuracy')\r\n",
        "plt.xlabel('epoch')\r\n",
        "plt.legend(['train_accuracy', 'val_accuracy'])\r\n",
        "plt.show()"
      ],
      "execution_count": 59,
      "outputs": [
        {
          "output_type": "display_data",
          "data": {
            "image/png": "[encoded data removed]",
            "text/plain": [
              "<Figure size 432x288 with 1 Axes>"
            ]
          },
          "metadata": {
            "tags": [],
            "needs_background": "light"
          }
        }
      ]
    },
    {
      "cell_type": "markdown",
      "metadata": {
        "id": "0Odm4BUnsI81"
      },
      "source": [
        "--> MD 문서로"
      ]
    },
    {
      "cell_type": "markdown",
      "metadata": {
        "id": "Ooou1AQLsNmp"
      },
      "source": [
        "### 드롭아웃 적용해 합성곱 신경망을 구현합니다.\r\n",
        "텐서플로에서 드롭아웃을 적용하려면 Dropout 클래스를 추가하면 된다.  \r\n",
        "Dropout 클래스의 매개변수에 드롭아웃될 비율을 실수로 지정한다.  \r\n",
        "드롭아웃층에는 학습되는 가중치가 없고 단순히 일부 뉴런의 출력을 무작위로 0으로 만들고 나머지 뉴런의 출력을 드롭되지 않은 비율로 나누어 증가시킨다. "
      ]
    },
    {
      "cell_type": "code",
      "metadata": {
        "id": "T7MjIcX7sRBX"
      },
      "source": [
        "from tensorflow.keras.layers import Dropout\r\n",
        "\r\n",
        "conv2 = tf.keras.Sequential()\r\n",
        "conv2.add(Conv2D(10, (3, 3), activation='relu', padding='same', input_shape=(28, 28, 1)))\r\n",
        "conv2.add(MaxPooling2D((2, 2)))\r\n",
        "conv2.add(Flatten())\r\n",
        "conv2.add(Dropout(0.5))\r\n",
        "conv2.add(Dense(100, activation='relu'))\r\n",
        "conv2.add(Dense(10, activation='softmax'))"
      ],
      "execution_count": 61,
      "outputs": []
    },
    {
      "cell_type": "markdown",
      "metadata": {
        "id": "ok1uPJSpsgQM"
      },
      "source": [
        "#### 2. 드롭아웃층 확인하기\r\n",
        "드롭아웃층은 훈련되는 가중치가 없고 텐서의 차원을 바꾸지 않는다. "
      ]
    },
    {
      "cell_type": "code",
      "metadata": {
        "colab": {
          "base_uri": "https://localhost:8080/"
        },
        "id": "J3RhSkt4sg6W",
        "outputId": "6073b2d5-7aaf-404d-e084-3df47809436d"
      },
      "source": [
        "conv2.summary()"
      ],
      "execution_count": 62,
      "outputs": [
        {
          "output_type": "stream",
          "text": [
            "Model: \"sequential_2\"\n",
            "_________________________________________________________________\n",
            "Layer (type)                 Output Shape              Param #   \n",
            "=================================================================\n",
            "conv2d_2 (Conv2D)            (None, 28, 28, 10)        100       \n",
            "_________________________________________________________________\n",
            "max_pooling2d_5 (MaxPooling2 (None, 14, 14, 10)        0         \n",
            "_________________________________________________________________\n",
            "flatten_2 (Flatten)          (None, 1960)              0         \n",
            "_________________________________________________________________\n",
            "dropout (Dropout)            (None, 1960)              0         \n",
            "_________________________________________________________________\n",
            "dense_4 (Dense)              (None, 100)               196100    \n",
            "_________________________________________________________________\n",
            "dense_5 (Dense)              (None, 10)                1010      \n",
            "=================================================================\n",
            "Total params: 197,210\n",
            "Trainable params: 197,210\n",
            "Non-trainable params: 0\n",
            "_________________________________________________________________\n"
          ],
          "name": "stdout"
        }
      ]
    },
    {
      "cell_type": "markdown",
      "metadata": {
        "id": "Ctb1h6bpslCf"
      },
      "source": [
        "#### 3. 훈련하기"
      ]
    },
    {
      "cell_type": "code",
      "metadata": {
        "colab": {
          "base_uri": "https://localhost:8080/"
        },
        "id": "-Cw5xvuhsmMw",
        "outputId": "8d9d3942-d199-452b-a4cf-da742ec80099"
      },
      "source": [
        "conv2.compile(optimizer='adam', loss='categorical_crossentropy',metrics=['accuracy'])\r\n",
        "history = conv2.fit(x_train, y_train_encoded, epochs=20, validation_data=(x_val, y_val_encoded))"
      ],
      "execution_count": 66,
      "outputs": [
        {
          "output_type": "stream",
          "text": [
            "Epoch 1/20\n",
            "1500/1500 [==============================] - 21s 14ms/step - loss: 0.6778 - accuracy: 0.7583 - val_loss: 0.3298 - val_accuracy: 0.8849\n",
            "Epoch 2/20\n",
            "1500/1500 [==============================] - 21s 14ms/step - loss: 0.3704 - accuracy: 0.8645 - val_loss: 0.3074 - val_accuracy: 0.8888\n",
            "Epoch 3/20\n",
            "1500/1500 [==============================] - 20s 13ms/step - loss: 0.3292 - accuracy: 0.8797 - val_loss: 0.2737 - val_accuracy: 0.9007\n",
            "Epoch 4/20\n",
            "1500/1500 [==============================] - 20s 13ms/step - loss: 0.3011 - accuracy: 0.8905 - val_loss: 0.2647 - val_accuracy: 0.9031\n",
            "Epoch 5/20\n",
            "1500/1500 [==============================] - 20s 13ms/step - loss: 0.2894 - accuracy: 0.8909 - val_loss: 0.2517 - val_accuracy: 0.9088\n",
            "Epoch 6/20\n",
            "1500/1500 [==============================] - 20s 13ms/step - loss: 0.2723 - accuracy: 0.8978 - val_loss: 0.2480 - val_accuracy: 0.9101\n",
            "Epoch 7/20\n",
            "1500/1500 [==============================] - 20s 13ms/step - loss: 0.2550 - accuracy: 0.9039 - val_loss: 0.2404 - val_accuracy: 0.9112\n",
            "Epoch 8/20\n",
            "1500/1500 [==============================] - 20s 13ms/step - loss: 0.2470 - accuracy: 0.9067 - val_loss: 0.2379 - val_accuracy: 0.9156\n",
            "Epoch 9/20\n",
            "1500/1500 [==============================] - 20s 13ms/step - loss: 0.2392 - accuracy: 0.9114 - val_loss: 0.2294 - val_accuracy: 0.9177\n",
            "Epoch 10/20\n",
            "1500/1500 [==============================] - 20s 13ms/step - loss: 0.2310 - accuracy: 0.9132 - val_loss: 0.2301 - val_accuracy: 0.9174\n",
            "Epoch 11/20\n",
            "1500/1500 [==============================] - 20s 13ms/step - loss: 0.2248 - accuracy: 0.9148 - val_loss: 0.2320 - val_accuracy: 0.9172\n",
            "Epoch 12/20\n",
            "1500/1500 [==============================] - 20s 13ms/step - loss: 0.2165 - accuracy: 0.9181 - val_loss: 0.2284 - val_accuracy: 0.9189\n",
            "Epoch 13/20\n",
            "1500/1500 [==============================] - 20s 13ms/step - loss: 0.2070 - accuracy: 0.9224 - val_loss: 0.2278 - val_accuracy: 0.9177\n",
            "Epoch 14/20\n",
            "1500/1500 [==============================] - 20s 13ms/step - loss: 0.2065 - accuracy: 0.9212 - val_loss: 0.2302 - val_accuracy: 0.9199\n",
            "Epoch 15/20\n",
            "1500/1500 [==============================] - 20s 13ms/step - loss: 0.1963 - accuracy: 0.9251 - val_loss: 0.2297 - val_accuracy: 0.9187\n",
            "Epoch 16/20\n",
            "1500/1500 [==============================] - 20s 13ms/step - loss: 0.1943 - accuracy: 0.9254 - val_loss: 0.2375 - val_accuracy: 0.9174\n",
            "Epoch 17/20\n",
            "1500/1500 [==============================] - 20s 13ms/step - loss: 0.1867 - accuracy: 0.9281 - val_loss: 0.2332 - val_accuracy: 0.9194\n",
            "Epoch 18/20\n",
            "1500/1500 [==============================] - 20s 13ms/step - loss: 0.1829 - accuracy: 0.9312 - val_loss: 0.2294 - val_accuracy: 0.9206\n",
            "Epoch 19/20\n",
            "1500/1500 [==============================] - 20s 13ms/step - loss: 0.1832 - accuracy: 0.9312 - val_loss: 0.2269 - val_accuracy: 0.9222\n",
            "Epoch 20/20\n",
            "1500/1500 [==============================] - 20s 13ms/step - loss: 0.1786 - accuracy: 0.9310 - val_loss: 0.2313 - val_accuracy: 0.9190\n"
          ],
          "name": "stdout"
        }
      ]
    },
    {
      "cell_type": "markdown",
      "metadata": {
        "id": "h722clV9xJaD"
      },
      "source": [
        "#### 4. 손실 그래프와 정확도 그래프 그리기"
      ]
    },
    {
      "cell_type": "code",
      "metadata": {
        "colab": {
          "base_uri": "https://localhost:8080/",
          "height": 541
        },
        "id": "aOUItjFNxKzx",
        "outputId": "f4e98a7b-ff68-48c7-87df-388e664e7635"
      },
      "source": [
        "plt.plot(history.history['loss'])\r\n",
        "plt.plot(history.history['val_loss'])\r\n",
        "plt.ylabel('loss')\r\n",
        "plt.xlabel('epoch')\r\n",
        "plt.legend(['train_loss', 'val_loss'])\r\n",
        "plt.show()\r\n",
        "\r\n",
        "plt.plot(history.history['accuracy'])\r\n",
        "plt.plot(history.history['val_accuracy'])\r\n",
        "plt.ylabel('accuracy')\r\n",
        "plt.xlabel('epoch')\r\n",
        "plt.legend(['train_accuracy', 'val_accuracy'])\r\n",
        "plt.show()"
      ],
      "execution_count": 68,
      "outputs": [
        {
          "output_type": "display_data",
          "data": {
            "image/png": "[encoded data removed]",
            "text/plain": [
              "<Figure size 432x288 with 1 Axes>"
            ]
          },
          "metadata": {
            "tags": [],
            "needs_background": "light"
          }
        },
        {
          "output_type": "display_data",
          "data": {
            "image/png": "[encoded data removed]",
            "text/plain": [
              "<Figure size 432x288 with 1 Axes>"
            ]
          },
          "metadata": {
            "tags": [],
            "needs_background": "light"
          }
        }
      ]
    },
    {
      "cell_type": "markdown",
      "metadata": {
        "id": "ZrCrO2dRxV5U"
      },
      "source": [
        "검증 손실이 증가되는 에포크가 확실히 늦춰졌고 훈련 손실과의 차이도 좁아졌다.  \r\n",
        "정확도도 미세하게 증가했다.  \r\n",
        "분류 문제에서 정확로를 직접 최적화할수는 없지만 크로스 엔트로피 손실함수를 대신 최적화한다."
      ]
    }
  ]
}