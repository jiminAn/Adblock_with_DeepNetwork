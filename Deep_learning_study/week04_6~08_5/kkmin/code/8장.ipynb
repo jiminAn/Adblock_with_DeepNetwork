{
  "nbformat": 4,
  "nbformat_minor": 0,
  "metadata": {
    "colab": {
      "name": "8장.ipynb",
      "provenance": [],
      "collapsed_sections": []
    },
    "kernelspec": {
      "name": "python3",
      "display_name": "Python 3"
    }
  },
  "cells": [
    {
      "cell_type": "markdown",
      "metadata": {
        "id": "iU-3dUNEvyRG"
      },
      "source": [
        "8-1 합성곱 연산에 대해 알아봅니다"
      ]
    },
    {
      "cell_type": "code",
      "metadata": {
        "id": "eLjmliXhwSi7"
      },
      "source": [
        "import numpy as np\r\n",
        "w = np.array([2,1,5,3])\r\n",
        "x = np.array([2, 8, 3, 7, 1, 2, 0, 4, 5])"
      ],
      "execution_count": null,
      "outputs": []
    },
    {
      "cell_type": "code",
      "metadata": {
        "colab": {
          "base_uri": "https://localhost:8080/"
        },
        "id": "zkT_X125w1Fw",
        "outputId": "4f88436d-aed5-4d6c-9162-7e83c6abdf1e"
      },
      "source": [
        "w_r = np.flip(w)\r\n",
        "print(w_r)"
      ],
      "execution_count": null,
      "outputs": [
        {
          "output_type": "stream",
          "text": [
            "[3 5 1 2]\n"
          ],
          "name": "stdout"
        }
      ]
    },
    {
      "cell_type": "code",
      "metadata": {
        "colab": {
          "base_uri": "https://localhost:8080/"
        },
        "id": "5-0xFzzmw5Um",
        "outputId": "8e076a51-40ff-4722-a254-9eb39ca9674a"
      },
      "source": [
        "for i in range(6):\r\n",
        "  print(np.dot(x[i:i+4], w_r))"
      ],
      "execution_count": null,
      "outputs": [
        {
          "output_type": "stream",
          "text": [
            "63\n",
            "48\n",
            "49\n",
            "28\n",
            "21\n",
            "20\n"
          ],
          "name": "stdout"
        }
      ]
    },
    {
      "cell_type": "code",
      "metadata": {
        "colab": {
          "base_uri": "https://localhost:8080/"
        },
        "id": "fvOHmWpExDnu",
        "outputId": "3afafa4e-74a9-46ec-a1a2-99b41a5394e8"
      },
      "source": [
        "from scipy.signal import convolve\r\n",
        "convolve(x, w, mode='valid')"
      ],
      "execution_count": null,
      "outputs": [
        {
          "output_type": "execute_result",
          "data": {
            "text/plain": [
              "array([63, 48, 49, 28, 21, 20])"
            ]
          },
          "metadata": {
            "tags": []
          },
          "execution_count": 72
        }
      ]
    },
    {
      "cell_type": "code",
      "metadata": {
        "colab": {
          "base_uri": "https://localhost:8080/"
        },
        "id": "-qNCiUyKxM3a",
        "outputId": "4f529122-ae3c-4ba2-cff2-81033c224f1d"
      },
      "source": [
        "from scipy.signal import correlate\r\n",
        "correlate(x, w, mode='valid')"
      ],
      "execution_count": null,
      "outputs": [
        {
          "output_type": "execute_result",
          "data": {
            "text/plain": [
              "array([48, 57, 24, 25, 16, 39])"
            ]
          },
          "metadata": {
            "tags": []
          },
          "execution_count": 73
        }
      ]
    },
    {
      "cell_type": "code",
      "metadata": {
        "colab": {
          "base_uri": "https://localhost:8080/"
        },
        "id": "Rd9SmgMTxg6a",
        "outputId": "8b509a93-f1a4-4596-e47b-2bc7b1656791"
      },
      "source": [
        "correlate(x, w, mode='full')"
      ],
      "execution_count": null,
      "outputs": [
        {
          "output_type": "execute_result",
          "data": {
            "text/plain": [
              "array([ 6, 34, 51, 48, 57, 24, 25, 16, 39, 29, 13, 10])"
            ]
          },
          "metadata": {
            "tags": []
          },
          "execution_count": 74
        }
      ]
    },
    {
      "cell_type": "code",
      "metadata": {
        "colab": {
          "base_uri": "https://localhost:8080/"
        },
        "id": "f4KOz-adyfUt",
        "outputId": "7eafde38-b80d-4478-88b7-d17d942a29cb"
      },
      "source": [
        "correlate(x, w, mode='same')"
      ],
      "execution_count": null,
      "outputs": [
        {
          "output_type": "execute_result",
          "data": {
            "text/plain": [
              "array([34, 51, 48, 57, 24, 25, 16, 39, 29])"
            ]
          },
          "metadata": {
            "tags": []
          },
          "execution_count": 75
        }
      ]
    },
    {
      "cell_type": "code",
      "metadata": {
        "colab": {
          "base_uri": "https://localhost:8080/"
        },
        "id": "_kEkwULTynOk",
        "outputId": "0b8ca2c7-d5a0-413d-d14d-8849c54ff0e9"
      },
      "source": [
        "x = np.array([[1,2,3],\r\n",
        "             [4,5,6],\r\n",
        "             [7,8,9]])\r\n",
        "w = np.array([[2, 0], [0, 0]])\r\n",
        "from scipy.signal import correlate2d\r\n",
        "correlate2d(x, w, mode='valid')"
      ],
      "execution_count": null,
      "outputs": [
        {
          "output_type": "execute_result",
          "data": {
            "text/plain": [
              "array([[ 2,  4],\n",
              "       [ 8, 10]])"
            ]
          },
          "metadata": {
            "tags": []
          },
          "execution_count": 76
        }
      ]
    },
    {
      "cell_type": "code",
      "metadata": {
        "colab": {
          "base_uri": "https://localhost:8080/"
        },
        "id": "NNqNbFwNzDVO",
        "outputId": "137644dd-45cc-44b5-abc8-c5db6ef2c310"
      },
      "source": [
        "correlate2d(x, w, mode='same')"
      ],
      "execution_count": null,
      "outputs": [
        {
          "output_type": "execute_result",
          "data": {
            "text/plain": [
              "array([[ 2,  4,  6],\n",
              "       [ 8, 10, 12],\n",
              "       [14, 16, 18]])"
            ]
          },
          "metadata": {
            "tags": []
          },
          "execution_count": 77
        }
      ]
    },
    {
      "cell_type": "code",
      "metadata": {
        "id": "3Mt5HxB7zTYx"
      },
      "source": [
        "import tensorflow as tf\r\n",
        "x_4d = x.astype(np.float).reshape(1, 3, 3, 1)\r\n",
        "w_4d = w.reshape(2, 2, 1, 1)"
      ],
      "execution_count": null,
      "outputs": []
    },
    {
      "cell_type": "code",
      "metadata": {
        "id": "bx1XtXIo0KfB"
      },
      "source": [
        "c_out = tf.nn.conv2d(x_4d, w_4d, strides=1, padding='SAME')"
      ],
      "execution_count": null,
      "outputs": []
    },
    {
      "cell_type": "code",
      "metadata": {
        "colab": {
          "base_uri": "https://localhost:8080/"
        },
        "id": "Yu9YqSc30RPI",
        "outputId": "9868d6c1-5e58-4bc0-e11d-c3872f13a1bc"
      },
      "source": [
        "c_out.numpy().reshape(3, 3)"
      ],
      "execution_count": null,
      "outputs": [
        {
          "output_type": "execute_result",
          "data": {
            "text/plain": [
              "array([[ 2.,  4.,  6.],\n",
              "       [ 8., 10., 12.],\n",
              "       [14., 16., 18.]])"
            ]
          },
          "metadata": {
            "tags": []
          },
          "execution_count": 80
        }
      ]
    },
    {
      "cell_type": "markdown",
      "metadata": {
        "id": "sqmsz69u0xIF"
      },
      "source": [
        "8-2 풀링 연산에 대해 알아봅니다\r\n",
        "\r\n",
        "\r\n",
        "\r\n"
      ]
    },
    {
      "cell_type": "code",
      "metadata": {
        "id": "8ZED_7XW1Exr"
      },
      "source": [
        "x = np.array([[1,2,3,4],\r\n",
        "              [5,6,7,8],\r\n",
        "              [9,10,11,12],\r\n",
        "              [13,14,15,16]])\r\n",
        "x = x.reshape(1,4,4,1)"
      ],
      "execution_count": null,
      "outputs": []
    },
    {
      "cell_type": "code",
      "metadata": {
        "colab": {
          "base_uri": "https://localhost:8080/"
        },
        "id": "ab_koT0Y8QUB",
        "outputId": "c86f9233-dfce-4cd7-9535-bd298fb9af05"
      },
      "source": [
        "p_out = tf.nn.max_pool2d(x, ksize=2, strides=2, padding='VALID')\r\n",
        "p_out.numpy().reshape(2, 2)"
      ],
      "execution_count": null,
      "outputs": [
        {
          "output_type": "execute_result",
          "data": {
            "text/plain": [
              "array([[ 6.,  8.],\n",
              "       [14., 16.]], dtype=float32)"
            ]
          },
          "metadata": {
            "tags": []
          },
          "execution_count": 82
        }
      ]
    },
    {
      "cell_type": "markdown",
      "metadata": {
        "id": "la_nSwPs8fIb"
      },
      "source": [
        "8-3 합성곱 신경망의 구조를 알아봅니다"
      ]
    },
    {
      "cell_type": "code",
      "metadata": {
        "id": "rzIGKPv58rQ5"
      },
      "source": [
        "def relu(x):\r\n",
        "  return np.maximum(x, 0)"
      ],
      "execution_count": null,
      "outputs": []
    },
    {
      "cell_type": "code",
      "metadata": {
        "colab": {
          "base_uri": "https://localhost:8080/"
        },
        "id": "ZLerjU5e8_DV",
        "outputId": "128bb62d-e527-44e8-8d43-860e81260ca1"
      },
      "source": [
        "x = np.array([-1,2,-3,4,-5])\r\n",
        "relu(x)"
      ],
      "execution_count": null,
      "outputs": [
        {
          "output_type": "execute_result",
          "data": {
            "text/plain": [
              "array([0, 2, 0, 4, 0])"
            ]
          },
          "metadata": {
            "tags": []
          },
          "execution_count": 84
        }
      ]
    },
    {
      "cell_type": "code",
      "metadata": {
        "colab": {
          "base_uri": "https://localhost:8080/"
        },
        "id": "1mZdK0iu9FZu",
        "outputId": "0e2f3293-e24f-4bad-b3b0-964e4d3e9353"
      },
      "source": [
        "r_out = tf.nn.relu(x)\r\n",
        "r_out.numpy()"
      ],
      "execution_count": null,
      "outputs": [
        {
          "output_type": "execute_result",
          "data": {
            "text/plain": [
              "array([0, 2, 0, 4, 0])"
            ]
          },
          "metadata": {
            "tags": []
          },
          "execution_count": 85
        }
      ]
    },
    {
      "cell_type": "markdown",
      "metadata": {
        "id": "Ht2AcsIr9Jx0"
      },
      "source": [
        "8-4 합성곱 신경망을 만들고 훈련합니다"
      ]
    },
    {
      "cell_type": "code",
      "metadata": {
        "id": "h4leXYUyMA__"
      },
      "source": [
        "class ConvolutionNetwork:\r\n",
        "\r\n",
        "  def __init__(self, n_kernels=10, units=10, batch_size=32, learning_rate=0.1):\r\n",
        "    self.n_kernels = n_kernels\r\n",
        "    self.kernel_size = 3\r\n",
        "    self.optimizer = None\r\n",
        "    self.conv_w = None\r\n",
        "    self.conv_b = None\r\n",
        "    self.units = units\r\n",
        "    self.batch_size = batch_size\r\n",
        "    self.w1 = None\r\n",
        "    self.b1 = None\r\n",
        "    self.w2 = None\r\n",
        "    self.b2 = None\r\n",
        "    self.a1 = None\r\n",
        "    self.losses = []\r\n",
        "    self.val_losses = []\r\n",
        "    self.lr = learning_rate\r\n",
        "\r\n",
        "  def forpass(self, x):\r\n",
        "    c_out = tf.nn.conv2d(x, self.conv_w, strides=1, padding='SAME') + self.conv_b\r\n",
        "    r_out = tf.nn.relu(c_out)\r\n",
        "    p_out = tf.nn.max_pool2d(r_out, ksize=2, strides=2, padding='VALID')\r\n",
        "    f_out = tf.reshape(p_out, [x.shape[0], -1])\r\n",
        "    z1 = tf.matmul(f_out, self.w1) + self.b1\r\n",
        "    a1 = tf.nn.relu(z1)\r\n",
        "    z2 = tf.matmul(a1, self.w2) + self.b2\r\n",
        "    return z2\r\n",
        "\r\n",
        "  def init_weights(self, input_shape, n_classes):\r\n",
        "      g = tf.initializers.glorot_uniform()\r\n",
        "      self.conv_w = tf.Variable(g((3, 3, 1, self.n_kernels)))\r\n",
        "      self.conv_b = tf.Variable(np.zeros(self.n_kernels), dtype=float)\r\n",
        "      n_features = 14 * 14 * self.n_kernels \r\n",
        "      self.w1 = tf.Variable(g((n_features, self.units)))\r\n",
        "      self.b1 = tf.Variable(np.zeros(self.units), dtype=float)\r\n",
        "      self.w2 = tf.Variable(g((self.units, n_classes)))\r\n",
        "      self.b2 = tf.Variable(np.zeros(n_classes), dtype=float)\r\n",
        "\r\n",
        "  def fit(self, x, y, epochs=100, x_val=None, y_val=None):\r\n",
        "    self.init_weights(x.shape, y.shape[1])\r\n",
        "    self.optimizer = tf.optimizers.SGD(learning_rate=self.lr)\r\n",
        "    for i in range(epochs):\r\n",
        "      print('에포크', i, end=' ')\r\n",
        "      batch_losses = []\r\n",
        "      for x_batch, y_batch in self.gen_batch(x, y):\r\n",
        "        print('.', end='')\r\n",
        "        self.training(x_batch, y_batch)\r\n",
        "        batch_losses.append(self.get_loss(x_batch, y_batch))\r\n",
        "      print()\r\n",
        "      self.losses.append(np.mean(batch_losses))\r\n",
        "      self.val_losses.append(self.get_loss(x_val, y_val))\r\n",
        "\r\n",
        "  def gen_batch(self, x, y):\r\n",
        "    bins = len(x) // self.batch_size\r\n",
        "    indexes = np.random.permutation(np.arange(len(x)))\r\n",
        "    x = x[indexes]\r\n",
        "    y = y[indexes]\r\n",
        "    for i in range(bins):\r\n",
        "      start = self.batch_size * i\r\n",
        "      end = self.batch_size * (i + 1)\r\n",
        "      yield x[start:end], y[start:end]\r\n",
        "\r\n",
        "  def training(self, x, y):\r\n",
        "    m = len(x)\r\n",
        "    with tf.GradientTape() as tape:\r\n",
        "      z = self.forpass(x)\r\n",
        "\r\n",
        "      loss = tf.nn.softmax_cross_entropy_with_logits(y, z)\r\n",
        "      loss = tf.reduce_mean(loss)\r\n",
        "\r\n",
        "    weights_list = [self.conv_w, self.conv_b, self.w1, self.b1, self.w2, self.b2]\r\n",
        "\r\n",
        "    grads = tape.gradient(loss, weights_list)\r\n",
        "    self.optimizer.apply_gradients(zip(grads, weights_list))\r\n",
        "\r\n",
        "  def predict(self, x):\r\n",
        "    z = self.forpass(x)\r\n",
        "    return np.argmax(z.numpy(), axis=1)\r\n",
        "\r\n",
        "  def score(self, x, y):\r\n",
        "    return np.mean(self.predict(x) == np.argmax(y, axis=1))\r\n",
        "\r\n",
        "  def get_loss(self, x, y):\r\n",
        "    z = self.forpass(x)\r\n",
        "    loss = tf.reduce_mean(tf.nn.softmax_cross_entropy_with_logits(y, z))\r\n",
        "    return loss.numpy()"
      ],
      "execution_count": null,
      "outputs": []
    },
    {
      "cell_type": "code",
      "metadata": {
        "id": "NPdO3nYfTv7H"
      },
      "source": [
        "(x_train_all, y_train_all), (x_test, y_test) = tf.keras.datasets.fashion_mnist.load_data()"
      ],
      "execution_count": null,
      "outputs": []
    },
    {
      "cell_type": "code",
      "metadata": {
        "id": "9KogE2cRT4pe"
      },
      "source": [
        "from sklearn.model_selection import train_test_split\r\n",
        "x_train, x_val, y_train, y_val = train_test_split(x_train_all, y_train_all,\r\n",
        "                                                  stratify=y_train_all, test_size=0.2,\r\n",
        "                                                  random_state=42)"
      ],
      "execution_count": null,
      "outputs": []
    },
    {
      "cell_type": "code",
      "metadata": {
        "id": "s1ymijGWUHtD"
      },
      "source": [
        "y_train_encoded = tf.keras.utils.to_categorical(y_train)\r\n",
        "y_val_encoded = tf.keras.utils.to_categorical(y_val)"
      ],
      "execution_count": null,
      "outputs": []
    },
    {
      "cell_type": "code",
      "metadata": {
        "id": "zXbouBm6OZXR"
      },
      "source": [
        "x_train = x_train.reshape(-1, 28, 28, 1)\r\n",
        "x_val = x_val.reshape(-1, 28, 28, 1)"
      ],
      "execution_count": null,
      "outputs": []
    },
    {
      "cell_type": "code",
      "metadata": {
        "colab": {
          "base_uri": "https://localhost:8080/"
        },
        "id": "M_4KyqG9Ufux",
        "outputId": "e455f205-d62e-4690-ab21-1bbfffe72478"
      },
      "source": [
        "x_train.shape"
      ],
      "execution_count": null,
      "outputs": [
        {
          "output_type": "execute_result",
          "data": {
            "text/plain": [
              "(48000, 28, 28, 1)"
            ]
          },
          "metadata": {
            "tags": []
          },
          "execution_count": 91
        }
      ]
    },
    {
      "cell_type": "code",
      "metadata": {
        "id": "8SbVUd4HUhTD"
      },
      "source": [
        "x_train = x_train / 255\r\n",
        "x_val = x_val / 255"
      ],
      "execution_count": null,
      "outputs": []
    },
    {
      "cell_type": "code",
      "metadata": {
        "colab": {
          "base_uri": "https://localhost:8080/"
        },
        "id": "x4GDU_IjUus_",
        "outputId": "70451ac9-87af-4034-82d6-cb89155f3aa5"
      },
      "source": [
        "cn = ConvolutionNetwork(n_kernels=10, units=100, batch_size=128, learning_rate=0.01)\r\n",
        "cn.fit(x_train, y_train_encoded, x_val=x_val, y_val=y_val_encoded, epochs=20)"
      ],
      "execution_count": null,
      "outputs": [
        {
          "output_type": "stream",
          "text": [
            "에포크 0 .......................................................................................................................................................................................................................................................................................................................................................................................\n",
            "에포크 1 .......................................................................................................................................................................................................................................................................................................................................................................................\n",
            "에포크 2 .......................................................................................................................................................................................................................................................................................................................................................................................\n",
            "에포크 3 .......................................................................................................................................................................................................................................................................................................................................................................................\n",
            "에포크 4 .......................................................................................................................................................................................................................................................................................................................................................................................\n",
            "에포크 5 .......................................................................................................................................................................................................................................................................................................................................................................................\n",
            "에포크 6 .......................................................................................................................................................................................................................................................................................................................................................................................\n",
            "에포크 7 .......................................................................................................................................................................................................................................................................................................................................................................................\n",
            "에포크 8 .......................................................................................................................................................................................................................................................................................................................................................................................\n",
            "에포크 9 .......................................................................................................................................................................................................................................................................................................................................................................................\n",
            "에포크 10 .......................................................................................................................................................................................................................................................................................................................................................................................\n",
            "에포크 11 .......................................................................................................................................................................................................................................................................................................................................................................................\n",
            "에포크 12 .......................................................................................................................................................................................................................................................................................................................................................................................\n",
            "에포크 13 .......................................................................................................................................................................................................................................................................................................................................................................................\n",
            "에포크 14 .......................................................................................................................................................................................................................................................................................................................................................................................\n",
            "에포크 15 .......................................................................................................................................................................................................................................................................................................................................................................................\n",
            "에포크 16 .......................................................................................................................................................................................................................................................................................................................................................................................\n",
            "에포크 17 .......................................................................................................................................................................................................................................................................................................................................................................................\n",
            "에포크 18 .......................................................................................................................................................................................................................................................................................................................................................................................\n",
            "에포크 19 .......................................................................................................................................................................................................................................................................................................................................................................................\n"
          ],
          "name": "stdout"
        }
      ]
    },
    {
      "cell_type": "code",
      "metadata": {
        "id": "zcIjEZFzU8k-"
      },
      "source": [
        "import matplotlib.pyplot as plt\r\n",
        "\r\n",
        "plt.plot(cn.losses)\r\n",
        "plt.plot(cn.val_losses)\r\n",
        "plt.ylabel('loss')\r\n",
        "plt.xlabel('iteration')\r\n",
        "plt.legend(['train_loss' , 'val_loss'])\r\n",
        "plt.show()"
      ],
      "execution_count": null,
      "outputs": []
    },
    {
      "cell_type": "code",
      "metadata": {
        "colab": {
          "base_uri": "https://localhost:8080/"
        },
        "id": "pXJlBWy-hV9E",
        "outputId": "d079b30c-5940-4e2f-f03a-b3eca7326251"
      },
      "source": [
        "cn.score(x_val, y_val_encoded)"
      ],
      "execution_count": null,
      "outputs": [
        {
          "output_type": "execute_result",
          "data": {
            "text/plain": [
              "0.8798333333333334"
            ]
          },
          "metadata": {
            "tags": []
          },
          "execution_count": 95
        }
      ]
    },
    {
      "cell_type": "code",
      "metadata": {
        "id": "wWtjzUHFhd1D"
      },
      "source": [
        "from tensorflow.keras.layers import Conv2D, MaxPooling2D, Flatten, Dense"
      ],
      "execution_count": null,
      "outputs": []
    },
    {
      "cell_type": "code",
      "metadata": {
        "id": "3QjmGNKcholI"
      },
      "source": [
        "conv1 = tf.keras.Sequential()\r\n",
        "conv1.add(Conv2D(10, (3, 3), activation='relu', padding='same', input_shape=(28, 28, 1)))"
      ],
      "execution_count": null,
      "outputs": []
    },
    {
      "cell_type": "code",
      "metadata": {
        "id": "S9riJsKFiF23"
      },
      "source": [
        "conv1.add(MaxPooling2D(2, 2))"
      ],
      "execution_count": null,
      "outputs": []
    },
    {
      "cell_type": "code",
      "metadata": {
        "id": "bGCEeFoGiOxT"
      },
      "source": [
        "conv1.add(Flatten())"
      ],
      "execution_count": null,
      "outputs": []
    },
    {
      "cell_type": "code",
      "metadata": {
        "id": "p5aD-ndKiQSM"
      },
      "source": [
        "conv1.add(Dense(100, activation='relu'))\r\n",
        "conv1.add(Dense(10, activation='softmax'))"
      ],
      "execution_count": null,
      "outputs": []
    },
    {
      "cell_type": "code",
      "metadata": {
        "colab": {
          "base_uri": "https://localhost:8080/"
        },
        "id": "2MC29uf6if1g",
        "outputId": "0e2d22d8-4482-473b-b087-027f21648706"
      },
      "source": [
        "conv1.summary()"
      ],
      "execution_count": null,
      "outputs": [
        {
          "output_type": "stream",
          "text": [
            "Model: \"sequential\"\n",
            "_________________________________________________________________\n",
            "Layer (type)                 Output Shape              Param #   \n",
            "=================================================================\n",
            "conv2d (Conv2D)              (None, 28, 28, 10)        100       \n",
            "_________________________________________________________________\n",
            "max_pooling2d (MaxPooling2D) (None, 14, 14, 10)        0         \n",
            "_________________________________________________________________\n",
            "flatten (Flatten)            (None, 1960)              0         \n",
            "_________________________________________________________________\n",
            "dense (Dense)                (None, 100)               196100    \n",
            "_________________________________________________________________\n",
            "dense_1 (Dense)              (None, 10)                1010      \n",
            "=================================================================\n",
            "Total params: 197,210\n",
            "Trainable params: 197,210\n",
            "Non-trainable params: 0\n",
            "_________________________________________________________________\n"
          ],
          "name": "stdout"
        }
      ]
    },
    {
      "cell_type": "code",
      "metadata": {
        "id": "CceCJYDtitEZ"
      },
      "source": [
        "conv1.compile(optimizer='adam', loss='categorical_crossentropy', metrics=['accuracy'])"
      ],
      "execution_count": null,
      "outputs": []
    },
    {
      "cell_type": "code",
      "metadata": {
        "colab": {
          "base_uri": "https://localhost:8080/"
        },
        "id": "FsOxi6pTjTJp",
        "outputId": "657db66d-e1ea-4f83-a2fa-05e75f8e18c4"
      },
      "source": [
        "history = conv1.fit(x_train, y_train_encoded, epochs=20, validation_data=(x_val, y_val_encoded))"
      ],
      "execution_count": null,
      "outputs": [
        {
          "output_type": "stream",
          "text": [
            "Epoch 1/20\n",
            "1500/1500 [==============================] - 23s 15ms/step - loss: 0.5977 - accuracy: 0.7977 - val_loss: 0.3183 - val_accuracy: 0.8867\n",
            "Epoch 2/20\n",
            "1500/1500 [==============================] - 22s 15ms/step - loss: 0.2982 - accuracy: 0.8915 - val_loss: 0.2762 - val_accuracy: 0.9003\n",
            "Epoch 3/20\n",
            "1500/1500 [==============================] - 22s 15ms/step - loss: 0.2502 - accuracy: 0.9091 - val_loss: 0.2666 - val_accuracy: 0.9062\n",
            "Epoch 4/20\n",
            "1500/1500 [==============================] - 27s 18ms/step - loss: 0.2253 - accuracy: 0.9184 - val_loss: 0.2567 - val_accuracy: 0.9085\n",
            "Epoch 5/20\n",
            "1500/1500 [==============================] - 22s 15ms/step - loss: 0.1951 - accuracy: 0.9290 - val_loss: 0.2530 - val_accuracy: 0.9080\n",
            "Epoch 6/20\n",
            "1500/1500 [==============================] - 22s 15ms/step - loss: 0.1770 - accuracy: 0.9339 - val_loss: 0.2405 - val_accuracy: 0.9158\n",
            "Epoch 7/20\n",
            "1500/1500 [==============================] - 22s 15ms/step - loss: 0.1558 - accuracy: 0.9434 - val_loss: 0.2469 - val_accuracy: 0.9182\n",
            "Epoch 8/20\n",
            "1500/1500 [==============================] - 23s 15ms/step - loss: 0.1373 - accuracy: 0.9508 - val_loss: 0.2522 - val_accuracy: 0.9171\n",
            "Epoch 9/20\n",
            "1500/1500 [==============================] - 23s 15ms/step - loss: 0.1240 - accuracy: 0.9540 - val_loss: 0.2730 - val_accuracy: 0.9145\n",
            "Epoch 10/20\n",
            "1500/1500 [==============================] - 22s 15ms/step - loss: 0.1115 - accuracy: 0.9597 - val_loss: 0.2958 - val_accuracy: 0.9118\n",
            "Epoch 11/20\n",
            "1500/1500 [==============================] - 22s 15ms/step - loss: 0.0990 - accuracy: 0.9643 - val_loss: 0.2901 - val_accuracy: 0.9139\n",
            "Epoch 12/20\n",
            "1500/1500 [==============================] - 22s 15ms/step - loss: 0.0878 - accuracy: 0.9691 - val_loss: 0.2932 - val_accuracy: 0.9183\n",
            "Epoch 13/20\n",
            "1500/1500 [==============================] - 23s 15ms/step - loss: 0.0768 - accuracy: 0.9723 - val_loss: 0.3000 - val_accuracy: 0.9173\n",
            "Epoch 14/20\n",
            "1500/1500 [==============================] - 22s 15ms/step - loss: 0.0676 - accuracy: 0.9756 - val_loss: 0.3043 - val_accuracy: 0.9200\n",
            "Epoch 15/20\n",
            "1500/1500 [==============================] - 22s 15ms/step - loss: 0.0594 - accuracy: 0.9785 - val_loss: 0.3608 - val_accuracy: 0.9135\n",
            "Epoch 16/20\n",
            "1500/1500 [==============================] - 22s 15ms/step - loss: 0.0535 - accuracy: 0.9808 - val_loss: 0.3398 - val_accuracy: 0.9183\n",
            "Epoch 17/20\n",
            "1500/1500 [==============================] - 22s 15ms/step - loss: 0.0476 - accuracy: 0.9839 - val_loss: 0.3855 - val_accuracy: 0.9133\n",
            "Epoch 18/20\n",
            "1500/1500 [==============================] - 22s 15ms/step - loss: 0.0437 - accuracy: 0.9840 - val_loss: 0.3737 - val_accuracy: 0.9168\n",
            "Epoch 19/20\n",
            "1500/1500 [==============================] - 22s 15ms/step - loss: 0.0371 - accuracy: 0.9871 - val_loss: 0.4243 - val_accuracy: 0.9133\n",
            "Epoch 20/20\n",
            "1500/1500 [==============================] - 22s 15ms/step - loss: 0.0380 - accuracy: 0.9861 - val_loss: 0.4180 - val_accuracy: 0.9135\n"
          ],
          "name": "stdout"
        }
      ]
    },
    {
      "cell_type": "code",
      "metadata": {
        "colab": {
          "base_uri": "https://localhost:8080/",
          "height": 1000
        },
        "id": "77QAEtMmkRyr",
        "outputId": "a1272598-1592-49f0-ad11-ac05a835de20"
      },
      "source": [
        "import matplotlib.pyplot as plt\r\n",
        "\r\n",
        "plt.plot(history.history['loss'])\r\n",
        "plt.plot(history.history['val_loss'])\r\n",
        "plt.ylabel('loss')\r\n",
        "plt.xlabel('epoch')\r\n",
        "plt.legend(['train_loss', 'val_loss'])\r\n",
        "plt.show()\r\n",
        "\r\n",
        "plt.plot(history.history['accuracy'])\r\n",
        "plt.plot(history.history['val_accuracy'])\r\n",
        "plt.ylabel('loss')\r\n",
        "plt.xlabel('epoch')\r\n",
        "plt.legend('train_accuracy', 'val_accuracy')\r\n",
        "plt.show()"
      ],
      "execution_count": null,
      "outputs": [
        {
          "output_type": "display_data",
          "data": {
            "image/png": "[encoded data removed]",
            "text/plain": [
              "<Figure size 432x288 with 1 Axes>"
            ]
          },
          "metadata": {
            "tags": [],
            "needs_background": "light"
          }
        },
        {
          "output_type": "stream",
          "text": [
            "/usr/local/lib/python3.6/dist-packages/ipykernel_launcher.py:14: UserWarning: The handle 'i' has a label of '_' which cannot be automatically added to the legend.\n",
            "  \n",
            "/usr/local/lib/python3.6/dist-packages/ipykernel_launcher.py:14: UserWarning: Legend does not support 't' instances.\n",
            "A proxy artist may be used instead.\n",
            "See: http://matplotlib.org/users/legend_guide.html#creating-artists-specifically-for-adding-to-the-legend-aka-proxy-artists\n",
            "  \n",
            "/usr/local/lib/python3.6/dist-packages/ipykernel_launcher.py:14: UserWarning: Legend does not support 'r' instances.\n",
            "A proxy artist may be used instead.\n",
            "See: http://matplotlib.org/users/legend_guide.html#creating-artists-specifically-for-adding-to-the-legend-aka-proxy-artists\n",
            "  \n",
            "/usr/local/lib/python3.6/dist-packages/ipykernel_launcher.py:14: UserWarning: Legend does not support 'a' instances.\n",
            "A proxy artist may be used instead.\n",
            "See: http://matplotlib.org/users/legend_guide.html#creating-artists-specifically-for-adding-to-the-legend-aka-proxy-artists\n",
            "  \n",
            "/usr/local/lib/python3.6/dist-packages/ipykernel_launcher.py:14: UserWarning: Legend does not support 'n' instances.\n",
            "A proxy artist may be used instead.\n",
            "See: http://matplotlib.org/users/legend_guide.html#creating-artists-specifically-for-adding-to-the-legend-aka-proxy-artists\n",
            "  \n",
            "/usr/local/lib/python3.6/dist-packages/ipykernel_launcher.py:14: UserWarning: Legend does not support '_' instances.\n",
            "A proxy artist may be used instead.\n",
            "See: http://matplotlib.org/users/legend_guide.html#creating-artists-specifically-for-adding-to-the-legend-aka-proxy-artists\n",
            "  \n",
            "/usr/local/lib/python3.6/dist-packages/ipykernel_launcher.py:14: UserWarning: Legend does not support 'c' instances.\n",
            "A proxy artist may be used instead.\n",
            "See: http://matplotlib.org/users/legend_guide.html#creating-artists-specifically-for-adding-to-the-legend-aka-proxy-artists\n",
            "  \n",
            "/usr/local/lib/python3.6/dist-packages/ipykernel_launcher.py:14: UserWarning: Legend does not support 'u' instances.\n",
            "A proxy artist may be used instead.\n",
            "See: http://matplotlib.org/users/legend_guide.html#creating-artists-specifically-for-adding-to-the-legend-aka-proxy-artists\n",
            "  \n"
          ],
          "name": "stderr"
        },
        {
          "output_type": "display_data",
          "data": {
            "image/png": "[encoded data removed]",
            "text/plain": [
              "<Figure size 432x288 with 1 Axes>"
            ]
          },
          "metadata": {
            "tags": [],
            "needs_background": "light"
          }
        }
      ]
    },
    {
      "cell_type": "code",
      "metadata": {
        "id": "qpDWIH0Wk_pM"
      },
      "source": [
        "from tensorflow.keras.layers import Dropout\r\n",
        "\r\n",
        "conv2 = tf.keras.Sequential()\r\n",
        "conv2.add(Conv2D(10, (3, 3), activation='relu', padding='same', input_shape=(28, 28, 1)))\r\n",
        "conv2.add(MaxPooling2D((2, 2)))\r\n",
        "conv2.add(Flatten())\r\n",
        "conv2.add(Dropout(0.5))\r\n",
        "conv2.add(Dense(100, activation='relu'))\r\n",
        "conv2.add(Dense(10, activation='softmax'))"
      ],
      "execution_count": null,
      "outputs": []
    },
    {
      "cell_type": "code",
      "metadata": {
        "colab": {
          "base_uri": "https://localhost:8080/"
        },
        "id": "ligR2zyVsDMH",
        "outputId": "d9640058-9f61-45c1-8626-36ff6a6c973f"
      },
      "source": [
        "conv2.summary()"
      ],
      "execution_count": null,
      "outputs": [
        {
          "output_type": "stream",
          "text": [
            "Model: \"sequential_3\"\n",
            "_________________________________________________________________\n",
            "Layer (type)                 Output Shape              Param #   \n",
            "=================================================================\n",
            "conv2d_2 (Conv2D)            (None, 28, 28, 10)        100       \n",
            "_________________________________________________________________\n",
            "max_pooling2d_2 (MaxPooling2 (None, 14, 14, 10)        0         \n",
            "_________________________________________________________________\n",
            "flatten_1 (Flatten)          (None, 1960)              0         \n",
            "_________________________________________________________________\n",
            "dropout (Dropout)            (None, 1960)              0         \n",
            "_________________________________________________________________\n",
            "dense_2 (Dense)              (None, 100)               196100    \n",
            "_________________________________________________________________\n",
            "dense_3 (Dense)              (None, 10)                1010      \n",
            "=================================================================\n",
            "Total params: 197,210\n",
            "Trainable params: 197,210\n",
            "Non-trainable params: 0\n",
            "_________________________________________________________________\n"
          ],
          "name": "stdout"
        }
      ]
    },
    {
      "cell_type": "code",
      "metadata": {
        "colab": {
          "base_uri": "https://localhost:8080/"
        },
        "id": "hRb0pbwjsUaY",
        "outputId": "d208c7ba-3abf-4c6e-e0ff-0ec2176c4b68"
      },
      "source": [
        "conv2.compile(optimizer='adam', loss='categorical_crossentropy', metrics=['accuracy'])\r\n",
        "history = conv2.fit(x_train, y_train_encoded, epochs=20, validation_data=(x_val, y_val_encoded))"
      ],
      "execution_count": null,
      "outputs": [
        {
          "output_type": "stream",
          "text": [
            "Epoch 1/20\n",
            "1500/1500 [==============================] - 24s 16ms/step - loss: 0.6885 - accuracy: 0.7547 - val_loss: 0.3498 - val_accuracy: 0.8774\n",
            "Epoch 2/20\n",
            "1500/1500 [==============================] - 23s 15ms/step - loss: 0.3872 - accuracy: 0.8621 - val_loss: 0.3055 - val_accuracy: 0.8934\n",
            "Epoch 3/20\n",
            "1500/1500 [==============================] - 23s 15ms/step - loss: 0.3375 - accuracy: 0.8780 - val_loss: 0.2881 - val_accuracy: 0.8938\n",
            "Epoch 4/20\n",
            "1500/1500 [==============================] - 23s 15ms/step - loss: 0.3130 - accuracy: 0.8835 - val_loss: 0.2810 - val_accuracy: 0.8978\n",
            "Epoch 5/20\n",
            "1500/1500 [==============================] - 23s 15ms/step - loss: 0.2932 - accuracy: 0.8918 - val_loss: 0.2671 - val_accuracy: 0.9034\n",
            "Epoch 6/20\n",
            "1500/1500 [==============================] - 23s 15ms/step - loss: 0.2700 - accuracy: 0.8977 - val_loss: 0.2485 - val_accuracy: 0.9100\n",
            "Epoch 7/20\n",
            "1500/1500 [==============================] - 23s 16ms/step - loss: 0.2563 - accuracy: 0.9044 - val_loss: 0.2425 - val_accuracy: 0.9128\n",
            "Epoch 8/20\n",
            "1500/1500 [==============================] - 23s 15ms/step - loss: 0.2503 - accuracy: 0.9051 - val_loss: 0.2367 - val_accuracy: 0.9158\n",
            "Epoch 9/20\n",
            "1500/1500 [==============================] - 23s 15ms/step - loss: 0.2400 - accuracy: 0.9096 - val_loss: 0.2365 - val_accuracy: 0.9153\n",
            "Epoch 10/20\n",
            "1500/1500 [==============================] - 23s 16ms/step - loss: 0.2246 - accuracy: 0.9160 - val_loss: 0.2368 - val_accuracy: 0.9147\n",
            "Epoch 11/20\n",
            "1500/1500 [==============================] - 24s 16ms/step - loss: 0.2196 - accuracy: 0.9169 - val_loss: 0.2286 - val_accuracy: 0.9185\n",
            "Epoch 12/20\n",
            "1500/1500 [==============================] - 25s 17ms/step - loss: 0.2110 - accuracy: 0.9229 - val_loss: 0.2377 - val_accuracy: 0.9142\n",
            "Epoch 13/20\n",
            "1500/1500 [==============================] - 23s 15ms/step - loss: 0.2055 - accuracy: 0.9234 - val_loss: 0.2308 - val_accuracy: 0.9184\n",
            "Epoch 14/20\n",
            "1500/1500 [==============================] - 23s 15ms/step - loss: 0.1964 - accuracy: 0.9264 - val_loss: 0.2318 - val_accuracy: 0.9167\n",
            "Epoch 15/20\n",
            "1500/1500 [==============================] - 23s 15ms/step - loss: 0.1973 - accuracy: 0.9246 - val_loss: 0.2278 - val_accuracy: 0.9210\n",
            "Epoch 16/20\n",
            "1500/1500 [==============================] - 23s 15ms/step - loss: 0.1933 - accuracy: 0.9282 - val_loss: 0.2308 - val_accuracy: 0.9212\n",
            "Epoch 17/20\n",
            "1500/1500 [==============================] - 23s 15ms/step - loss: 0.1827 - accuracy: 0.9315 - val_loss: 0.2305 - val_accuracy: 0.9181\n",
            "Epoch 18/20\n",
            "1500/1500 [==============================] - 23s 15ms/step - loss: 0.1860 - accuracy: 0.9298 - val_loss: 0.2301 - val_accuracy: 0.9216\n",
            "Epoch 19/20\n",
            "1500/1500 [==============================] - 23s 15ms/step - loss: 0.1772 - accuracy: 0.9327 - val_loss: 0.2286 - val_accuracy: 0.9214\n",
            "Epoch 20/20\n",
            "1500/1500 [==============================] - 23s 15ms/step - loss: 0.1739 - accuracy: 0.9345 - val_loss: 0.2355 - val_accuracy: 0.9193\n"
          ],
          "name": "stdout"
        }
      ]
    },
    {
      "cell_type": "code",
      "metadata": {
        "colab": {
          "base_uri": "https://localhost:8080/",
          "height": 545
        },
        "id": "q4GW_B8xslyG",
        "outputId": "cdbad4c5-6754-4e3c-ab8c-25c4097f6d62"
      },
      "source": [
        "plt.plot(history.history['loss'])\r\n",
        "plt.plot(history.history['val_loss'])\r\n",
        "plt.ylabel('loss')\r\n",
        "plt.xlabel('epoch')\r\n",
        "plt.legend(['train_loss', 'val_loss'])\r\n",
        "plt.show()\r\n",
        "\r\n",
        "plt.plot(history.history['accuracy'])\r\n",
        "plt.plot(history.history['val_accuracy'])\r\n",
        "plt.ylabel('loss')\r\n",
        "plt.xlabel('epoch')\r\n",
        "plt.legend(['train_accuracy', 'val_accuracy'])\r\n",
        "plt.show()"
      ],
      "execution_count": null,
      "outputs": [
        {
          "output_type": "display_data",
          "data": {
            "image/png": "[encoded data removed]",
            "text/plain": [
              "<Figure size 432x288 with 1 Axes>"
            ]
          },
          "metadata": {
            "tags": [],
            "needs_background": "light"
          }
        },
        {
          "output_type": "display_data",
          "data": {
            "image/png": "[encoded data removed]",
            "text/plain": [
              "<Figure size 432x288 with 1 Axes>"
            ]
          },
          "metadata": {
            "tags": [],
            "needs_background": "light"
          }
        }
      ]
    },
    {
      "cell_type": "code",
      "metadata": {
        "id": "UEQ2_x6quX2y"
      },
      "source": [
        ""
      ],
      "execution_count": null,
      "outputs": []
    }
  ]
}