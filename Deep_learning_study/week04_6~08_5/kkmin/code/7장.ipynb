{
  "nbformat": 4,
  "nbformat_minor": 0,
  "metadata": {
    "colab": {
      "name": "7장.ipynb",
      "provenance": [],
      "collapsed_sections": []
    },
    "kernelspec": {
      "name": "python3",
      "display_name": "Python 3"
    }
  },
  "cells": [
    {
      "cell_type": "markdown",
      "metadata": {
        "id": "ezlk2kdor-dT"
      },
      "source": [
        "7-1 여러 개의 이미지를 분류하는 다층 신경망을 만듭니다"
      ]
    },
    {
      "cell_type": "code",
      "metadata": {
        "id": "cZICYLL0r8XP"
      },
      "source": [
        "class MultiClassNetwork():\r\n",
        "\r\n",
        "  def __init__(self, units=10, batch_size=32, learning_rate=0.1, l1=0, l2=0):\r\n",
        "    self.units = units\r\n",
        "    self.batch_size = batch_size\r\n",
        "    self.w1 = None\r\n",
        "    self.b1 = None\r\n",
        "    self.w2 = None\r\n",
        "    self.b2 = None\r\n",
        "    self.a1 = None\r\n",
        "    self.losses = []\r\n",
        "    self.val_losses = []\r\n",
        "    self.lr = learning_rate\r\n",
        "    self.l1 = l1\r\n",
        "    self.l2 = l2\r\n",
        "\r\n",
        "  def forpass(self, x):\r\n",
        "    z1 = np.dot(x, self.w1) + self.b1\r\n",
        "    self.a1 = self.sigmoid(z1)\r\n",
        "    z2 = np.dot(self.a1, self.w2) + self.b2\r\n",
        "    return z2\r\n",
        "  \r\n",
        "  def backprop(self, x, err):\r\n",
        "    m = len(x)\r\n",
        "    w2_grad = np.dot(self.a1.T, err) / m\r\n",
        "    b2_grad = np.sum(err) / m\r\n",
        "    err_to_hidden = np.dot(err, self.w2.T) * self.a1 * (1 - self.a1)\r\n",
        "    w1_grad = np.dot(x.T, err_to_hidden) / m\r\n",
        "    b1_grad = np.sum(err_to_hidden, axis=0) / m\r\n",
        "    return w1_grad, b1_grad, w2_grad, b2_grad\r\n",
        "\r\n",
        "  def sigmoid(self, z):\r\n",
        "    a = 1 / (1 + np.exp(-z))\r\n",
        "    return a\r\n",
        "\r\n",
        "  def softmax(self, z):\r\n",
        "    exp_z = np.exp(z)\r\n",
        "    return exp_z / np.sum(exp_z, axis=1).reshape(-1, 1)\r\n",
        "\r\n",
        "  def init_weights(self, n_features, n_classes):\r\n",
        "    self.w1 = np.random.normal(0, 1,\r\n",
        "                               (n_features, self.units))\r\n",
        "    self.b1 = np.zeros(self.units)\r\n",
        "    self.w2 = np.random.normal(0, 1,\r\n",
        "                               (self.units, n_classes))\r\n",
        "    self.b2 = np.zeros(n_classes)\r\n",
        "\r\n",
        "  def fit(self, x, y, epochs=100, x_val=None, y_val=None):\r\n",
        "    np.random.seed(42)\r\n",
        "    self.init_weights(x.shape[1], y.shape[1])\r\n",
        "    for i in range(epochs):\r\n",
        "      loss = 0\r\n",
        "      print('.', end='')\r\n",
        "      for x_batch, y_batch in self.gen_batch(x, y):\r\n",
        "        a = self.training(x_batch, y_batch)\r\n",
        "        a = np.clip(a, 1e-10, 1-1e-10)\r\n",
        "        loss += np.sum(-y_batch * np.log(a))\r\n",
        "      self.losses.append((loss + self.reg_loss()) / len(x))\r\n",
        "      self.update_val_loss(x_val, y_val)\r\n",
        "  \r\n",
        "  def gen_batch(self, x, y):\r\n",
        "    length = len(x)\r\n",
        "    bins = length // self.batch_size\r\n",
        "    if length % self.batch_size:\r\n",
        "      bins += 1\r\n",
        "    indexes = np.random.permutation(np.arange(len(x)))\r\n",
        "    x = x[indexes]\r\n",
        "    y = y[indexes]\r\n",
        "    for i in range(bins):\r\n",
        "      start = self.batch_size * i\r\n",
        "      end = self.batch_size * (i + 1)\r\n",
        "      yield x[start:end], y[start:end]\r\n",
        "\r\n",
        "  def training(self, x, y):\r\n",
        "    m = len(x)\r\n",
        "    z = self.forpass(x)\r\n",
        "    a = self.softmax(z)\r\n",
        "    err = -(y - a)\r\n",
        "    w1_grad, b1_grad, w2_grad, b2_grad = self.backprop(x, err)\r\n",
        "    w1_grad += (self.l1 * np.sign(self.w1) + self.l2 * self.w1) / m\r\n",
        "    w2_grad += (self.l1 * np.sign(self.w2) + self.l2 * self.w2) / m\r\n",
        "\r\n",
        "    self.w1 -= self.lr * w1_grad\r\n",
        "    self.b1 -= self.lr * b1_grad\r\n",
        "\r\n",
        "    self.w2 -= self.lr * w2_grad\r\n",
        "    self.b2 -= self.lr * b2_grad\r\n",
        "    return a\r\n",
        "\r\n",
        "  def predict(self, x):\r\n",
        "    z = self.forpass(x)\r\n",
        "    return np.argmax(z, axis=1)\r\n",
        "\r\n",
        "  def score(self, x, y):\r\n",
        "    return np.mean(self.predict(x) == np.argmax(y, axis=1))\r\n",
        "\r\n",
        "  def reg_loss(self):\r\n",
        "    return self.l1 * (np.sum(np.abs(self.w1)) + np.sum(np.abs(self.w2))) + \\\r\n",
        "           self.l2 / 2 * (np.sum(self.w1**2) + np.sum(self.w2**2))\r\n",
        "\r\n",
        "  def update_val_loss(self, x_val, y_val):\r\n",
        "    z = self.forpass(x_val)\r\n",
        "    a = self.softmax(z)\r\n",
        "    a = np.clip(a, 1e-10, 1-1e-10)\r\n",
        "    val_loss = np.sum(-y_val * np.log(a))\r\n",
        "    self.val_losses.append((val_loss + self.reg_loss()) / len(y_val))"
      ],
      "execution_count": null,
      "outputs": []
    },
    {
      "cell_type": "code",
      "metadata": {
        "colab": {
          "base_uri": "https://localhost:8080/"
        },
        "id": "vvP5MCkG3SME",
        "outputId": "e56ebf68-3854-401f-caf5-8da10155097c"
      },
      "source": [
        "!pip install tensorflow_gpu==2.0.0"
      ],
      "execution_count": null,
      "outputs": [
        {
          "output_type": "stream",
          "text": [
            "Requirement already satisfied: tensorflow_gpu==2.0.0 in /usr/local/lib/python3.6/dist-packages (2.0.0)\n",
            "Requirement already satisfied: grpcio>=1.8.6 in /usr/local/lib/python3.6/dist-packages (from tensorflow_gpu==2.0.0) (1.32.0)\n",
            "Requirement already satisfied: google-pasta>=0.1.6 in /usr/local/lib/python3.6/dist-packages (from tensorflow_gpu==2.0.0) (0.2.0)\n",
            "Requirement already satisfied: astor>=0.6.0 in /usr/local/lib/python3.6/dist-packages (from tensorflow_gpu==2.0.0) (0.8.1)\n",
            "Requirement already satisfied: six>=1.10.0 in /usr/local/lib/python3.6/dist-packages (from tensorflow_gpu==2.0.0) (1.15.0)\n",
            "Requirement already satisfied: tensorflow-estimator<2.1.0,>=2.0.0 in /usr/local/lib/python3.6/dist-packages (from tensorflow_gpu==2.0.0) (2.0.1)\n",
            "Requirement already satisfied: protobuf>=3.6.1 in /usr/local/lib/python3.6/dist-packages (from tensorflow_gpu==2.0.0) (3.12.4)\n",
            "Requirement already satisfied: keras-applications>=1.0.8 in /usr/local/lib/python3.6/dist-packages (from tensorflow_gpu==2.0.0) (1.0.8)\n",
            "Requirement already satisfied: wrapt>=1.11.1 in /usr/local/lib/python3.6/dist-packages (from tensorflow_gpu==2.0.0) (1.12.1)\n",
            "Requirement already satisfied: absl-py>=0.7.0 in /usr/local/lib/python3.6/dist-packages (from tensorflow_gpu==2.0.0) (0.10.0)\n",
            "Requirement already satisfied: gast==0.2.2 in /usr/local/lib/python3.6/dist-packages (from tensorflow_gpu==2.0.0) (0.2.2)\n",
            "Requirement already satisfied: keras-preprocessing>=1.0.5 in /usr/local/lib/python3.6/dist-packages (from tensorflow_gpu==2.0.0) (1.1.2)\n",
            "Requirement already satisfied: wheel>=0.26 in /usr/local/lib/python3.6/dist-packages (from tensorflow_gpu==2.0.0) (0.36.2)\n",
            "Requirement already satisfied: tensorboard<2.1.0,>=2.0.0 in /usr/local/lib/python3.6/dist-packages (from tensorflow_gpu==2.0.0) (2.0.2)\n",
            "Requirement already satisfied: termcolor>=1.1.0 in /usr/local/lib/python3.6/dist-packages (from tensorflow_gpu==2.0.0) (1.1.0)\n",
            "Requirement already satisfied: numpy<2.0,>=1.16.0 in /usr/local/lib/python3.6/dist-packages (from tensorflow_gpu==2.0.0) (1.19.5)\n",
            "Requirement already satisfied: opt-einsum>=2.3.2 in /usr/local/lib/python3.6/dist-packages (from tensorflow_gpu==2.0.0) (3.3.0)\n",
            "Requirement already satisfied: setuptools in /usr/local/lib/python3.6/dist-packages (from protobuf>=3.6.1->tensorflow_gpu==2.0.0) (53.0.0)\n",
            "Requirement already satisfied: h5py in /usr/local/lib/python3.6/dist-packages (from keras-applications>=1.0.8->tensorflow_gpu==2.0.0) (2.10.0)\n",
            "Requirement already satisfied: requests<3,>=2.21.0 in /usr/local/lib/python3.6/dist-packages (from tensorboard<2.1.0,>=2.0.0->tensorflow_gpu==2.0.0) (2.23.0)\n",
            "Requirement already satisfied: werkzeug>=0.11.15 in /usr/local/lib/python3.6/dist-packages (from tensorboard<2.1.0,>=2.0.0->tensorflow_gpu==2.0.0) (1.0.1)\n",
            "Requirement already satisfied: google-auth-oauthlib<0.5,>=0.4.1 in /usr/local/lib/python3.6/dist-packages (from tensorboard<2.1.0,>=2.0.0->tensorflow_gpu==2.0.0) (0.4.2)\n",
            "Requirement already satisfied: google-auth<2,>=1.6.3 in /usr/local/lib/python3.6/dist-packages (from tensorboard<2.1.0,>=2.0.0->tensorflow_gpu==2.0.0) (1.24.0)\n",
            "Requirement already satisfied: markdown>=2.6.8 in /usr/local/lib/python3.6/dist-packages (from tensorboard<2.1.0,>=2.0.0->tensorflow_gpu==2.0.0) (3.3.3)\n",
            "Requirement already satisfied: urllib3!=1.25.0,!=1.25.1,<1.26,>=1.21.1 in /usr/local/lib/python3.6/dist-packages (from requests<3,>=2.21.0->tensorboard<2.1.0,>=2.0.0->tensorflow_gpu==2.0.0) (1.24.3)\n",
            "Requirement already satisfied: certifi>=2017.4.17 in /usr/local/lib/python3.6/dist-packages (from requests<3,>=2.21.0->tensorboard<2.1.0,>=2.0.0->tensorflow_gpu==2.0.0) (2020.12.5)\n",
            "Requirement already satisfied: chardet<4,>=3.0.2 in /usr/local/lib/python3.6/dist-packages (from requests<3,>=2.21.0->tensorboard<2.1.0,>=2.0.0->tensorflow_gpu==2.0.0) (3.0.4)\n",
            "Requirement already satisfied: idna<3,>=2.5 in /usr/local/lib/python3.6/dist-packages (from requests<3,>=2.21.0->tensorboard<2.1.0,>=2.0.0->tensorflow_gpu==2.0.0) (2.10)\n",
            "Requirement already satisfied: requests-oauthlib>=0.7.0 in /usr/local/lib/python3.6/dist-packages (from google-auth-oauthlib<0.5,>=0.4.1->tensorboard<2.1.0,>=2.0.0->tensorflow_gpu==2.0.0) (1.3.0)\n",
            "Requirement already satisfied: rsa<5,>=3.1.4; python_version >= \"3.6\" in /usr/local/lib/python3.6/dist-packages (from google-auth<2,>=1.6.3->tensorboard<2.1.0,>=2.0.0->tensorflow_gpu==2.0.0) (4.7)\n",
            "Requirement already satisfied: pyasn1-modules>=0.2.1 in /usr/local/lib/python3.6/dist-packages (from google-auth<2,>=1.6.3->tensorboard<2.1.0,>=2.0.0->tensorflow_gpu==2.0.0) (0.2.8)\n",
            "Requirement already satisfied: cachetools<5.0,>=2.0.0 in /usr/local/lib/python3.6/dist-packages (from google-auth<2,>=1.6.3->tensorboard<2.1.0,>=2.0.0->tensorflow_gpu==2.0.0) (4.2.1)\n",
            "Requirement already satisfied: importlib-metadata; python_version < \"3.8\" in /usr/local/lib/python3.6/dist-packages (from markdown>=2.6.8->tensorboard<2.1.0,>=2.0.0->tensorflow_gpu==2.0.0) (3.4.0)\n",
            "Requirement already satisfied: oauthlib>=3.0.0 in /usr/local/lib/python3.6/dist-packages (from requests-oauthlib>=0.7.0->google-auth-oauthlib<0.5,>=0.4.1->tensorboard<2.1.0,>=2.0.0->tensorflow_gpu==2.0.0) (3.1.0)\n",
            "Requirement already satisfied: pyasn1>=0.1.3 in /usr/local/lib/python3.6/dist-packages (from rsa<5,>=3.1.4; python_version >= \"3.6\"->google-auth<2,>=1.6.3->tensorboard<2.1.0,>=2.0.0->tensorflow_gpu==2.0.0) (0.4.8)\n",
            "Requirement already satisfied: zipp>=0.5 in /usr/local/lib/python3.6/dist-packages (from importlib-metadata; python_version < \"3.8\"->markdown>=2.6.8->tensorboard<2.1.0,>=2.0.0->tensorflow_gpu==2.0.0) (3.4.0)\n",
            "Requirement already satisfied: typing-extensions>=3.6.4; python_version < \"3.8\" in /usr/local/lib/python3.6/dist-packages (from importlib-metadata; python_version < \"3.8\"->markdown>=2.6.8->tensorboard<2.1.0,>=2.0.0->tensorflow_gpu==2.0.0) (3.7.4.3)\n"
          ],
          "name": "stdout"
        }
      ]
    },
    {
      "cell_type": "code",
      "metadata": {
        "id": "A2g1vVv23abe"
      },
      "source": [
        "import tensorflow as tf"
      ],
      "execution_count": null,
      "outputs": []
    },
    {
      "cell_type": "code",
      "metadata": {
        "colab": {
          "base_uri": "https://localhost:8080/",
          "height": 35
        },
        "id": "TEJtiuT_3st1",
        "outputId": "75cc4372-9eb8-4e05-9ced-6880f13a2e18"
      },
      "source": [
        "tf.__version__"
      ],
      "execution_count": null,
      "outputs": [
        {
          "output_type": "execute_result",
          "data": {
            "application/vnd.google.colaboratory.intrinsic+json": {
              "type": "string"
            },
            "text/plain": [
              "'2.0.0'"
            ]
          },
          "metadata": {
            "tags": []
          },
          "execution_count": 81
        }
      ]
    },
    {
      "cell_type": "code",
      "metadata": {
        "id": "0ownjzvA3uzg"
      },
      "source": [
        "(x_train_all, y_train_all), (x_test, y_test) = tf.keras.datasets.fashion_mnist.load_data()"
      ],
      "execution_count": null,
      "outputs": []
    },
    {
      "cell_type": "code",
      "metadata": {
        "colab": {
          "base_uri": "https://localhost:8080/"
        },
        "id": "oS3dZBI536l-",
        "outputId": "f2ff0956-fe06-429d-f1c4-589f6ae1a23b"
      },
      "source": [
        "print(x_train_all.shape, y_train_all.shape)"
      ],
      "execution_count": null,
      "outputs": [
        {
          "output_type": "stream",
          "text": [
            "(60000, 28, 28) (60000,)\n"
          ],
          "name": "stdout"
        }
      ]
    },
    {
      "cell_type": "code",
      "metadata": {
        "colab": {
          "base_uri": "https://localhost:8080/",
          "height": 265
        },
        "id": "qNN15u514G6Z",
        "outputId": "7dd062c7-190b-42af-e763-ad4b458d955a"
      },
      "source": [
        "import matplotlib.pyplot as plt\r\n",
        "plt.imshow(x_train_all[0], cmap='gray')\r\n",
        "plt.show()"
      ],
      "execution_count": null,
      "outputs": [
        {
          "output_type": "display_data",
          "data": {
            "image/png": "[encoded data removed]",
            "text/plain": [
              "<Figure size 432x288 with 1 Axes>"
            ]
          },
          "metadata": {
            "tags": [],
            "needs_background": "light"
          }
        }
      ]
    },
    {
      "cell_type": "code",
      "metadata": {
        "colab": {
          "base_uri": "https://localhost:8080/"
        },
        "id": "hMcyFHhh4mZ5",
        "outputId": "6b0691d7-aa38-414e-c625-a762df52713c"
      },
      "source": [
        "print(y_train_all[:10])"
      ],
      "execution_count": null,
      "outputs": [
        {
          "output_type": "stream",
          "text": [
            "[9 0 0 3 0 2 7 2 5 5]\n"
          ],
          "name": "stdout"
        }
      ]
    },
    {
      "cell_type": "code",
      "metadata": {
        "id": "W6R-ZQ2t4rxF"
      },
      "source": [
        "class_names = ['티셔츠/윗도리', '바지', '스웨터', '드레스', '코트', '샌들', '셔츠', '스니커즈', '가방', '앵클부츠']"
      ],
      "execution_count": null,
      "outputs": []
    },
    {
      "cell_type": "code",
      "metadata": {
        "colab": {
          "base_uri": "https://localhost:8080/"
        },
        "id": "1wWKnRNv45Y_",
        "outputId": "269b9341-e51a-46d8-97ef-e1cf193ddcba"
      },
      "source": [
        "print(class_names[y_train_all[0]])"
      ],
      "execution_count": null,
      "outputs": [
        {
          "output_type": "stream",
          "text": [
            "앵클부츠\n"
          ],
          "name": "stdout"
        }
      ]
    },
    {
      "cell_type": "code",
      "metadata": {
        "colab": {
          "base_uri": "https://localhost:8080/"
        },
        "id": "AqIHWEFz488P",
        "outputId": "5b2774a0-d3ad-4cbe-d5ff-1b35fa551b3e"
      },
      "source": [
        "import numpy as np\r\n",
        "np.bincount(y_train_all)"
      ],
      "execution_count": null,
      "outputs": [
        {
          "output_type": "execute_result",
          "data": {
            "text/plain": [
              "array([6000, 6000, 6000, 6000, 6000, 6000, 6000, 6000, 6000, 6000])"
            ]
          },
          "metadata": {
            "tags": []
          },
          "execution_count": 88
        }
      ]
    },
    {
      "cell_type": "code",
      "metadata": {
        "id": "n3gT4gYK5JxL"
      },
      "source": [
        "from sklearn.model_selection import train_test_split\r\n",
        "x_train, x_val, y_train, y_val = train_test_split(x_train_all, y_train_all, stratify=y_train_all, test_size=0.2, random_state=42)"
      ],
      "execution_count": null,
      "outputs": []
    },
    {
      "cell_type": "code",
      "metadata": {
        "colab": {
          "base_uri": "https://localhost:8080/"
        },
        "id": "bFceplJI5iry",
        "outputId": "14e9c4dd-35e4-45a5-d7dd-27cb967ee4a5"
      },
      "source": [
        "np.bincount(y_train)"
      ],
      "execution_count": null,
      "outputs": [
        {
          "output_type": "execute_result",
          "data": {
            "text/plain": [
              "array([4800, 4800, 4800, 4800, 4800, 4800, 4800, 4800, 4800, 4800])"
            ]
          },
          "metadata": {
            "tags": []
          },
          "execution_count": 90
        }
      ]
    },
    {
      "cell_type": "code",
      "metadata": {
        "colab": {
          "base_uri": "https://localhost:8080/"
        },
        "id": "5G8UKWLD5l7-",
        "outputId": "7648c9ab-86ac-4c92-fde9-538a4faaab3a"
      },
      "source": [
        "np.bincount(y_val)"
      ],
      "execution_count": null,
      "outputs": [
        {
          "output_type": "execute_result",
          "data": {
            "text/plain": [
              "array([1200, 1200, 1200, 1200, 1200, 1200, 1200, 1200, 1200, 1200])"
            ]
          },
          "metadata": {
            "tags": []
          },
          "execution_count": 91
        }
      ]
    },
    {
      "cell_type": "code",
      "metadata": {
        "id": "7ttpeN7e5qDs"
      },
      "source": [
        "x_trian = x_train / 255\r\n",
        "x_val = x_val / 255"
      ],
      "execution_count": null,
      "outputs": []
    },
    {
      "cell_type": "code",
      "metadata": {
        "id": "pjSDICq_5yPd"
      },
      "source": [
        "x_train = x_train.reshape(-1, 784)\r\n",
        "x_val = x_val.reshape(-1, 784)"
      ],
      "execution_count": null,
      "outputs": []
    },
    {
      "cell_type": "code",
      "metadata": {
        "colab": {
          "base_uri": "https://localhost:8080/"
        },
        "id": "r8mHXq4J6AEE",
        "outputId": "0f893465-52e5-4bc4-f21e-1d13ba422027"
      },
      "source": [
        "print(x_train.shape, x_val.shape)"
      ],
      "execution_count": null,
      "outputs": [
        {
          "output_type": "stream",
          "text": [
            "(48000, 784) (12000, 784)\n"
          ],
          "name": "stdout"
        }
      ]
    },
    {
      "cell_type": "code",
      "metadata": {
        "id": "wfw5aWY66MxH",
        "colab": {
          "base_uri": "https://localhost:8080/"
        },
        "outputId": "09182b9a-b681-4c47-8578-14760a95b4fc"
      },
      "source": [
        "tf.keras.utils.to_categorical([0,1,3])"
      ],
      "execution_count": null,
      "outputs": [
        {
          "output_type": "execute_result",
          "data": {
            "text/plain": [
              "array([[1., 0., 0., 0.],\n",
              "       [0., 1., 0., 0.],\n",
              "       [0., 0., 0., 1.]], dtype=float32)"
            ]
          },
          "metadata": {
            "tags": []
          },
          "execution_count": 95
        }
      ]
    },
    {
      "cell_type": "code",
      "metadata": {
        "id": "0bORl2YqAY-9"
      },
      "source": [
        "y_train_encoded = tf.keras.utils.to_categorical(y_train)\r\n",
        "y_val_encoded = tf.keras.utils.to_categorical(y_val)"
      ],
      "execution_count": null,
      "outputs": []
    },
    {
      "cell_type": "code",
      "metadata": {
        "colab": {
          "base_uri": "https://localhost:8080/"
        },
        "id": "eOe75-pAApvP",
        "outputId": "72d26217-8a0a-4ddf-fb42-362c57ac9cbd"
      },
      "source": [
        "print(y_train_encoded.shape, y_val_encoded.shape)"
      ],
      "execution_count": null,
      "outputs": [
        {
          "output_type": "stream",
          "text": [
            "(48000, 10) (12000, 10)\n"
          ],
          "name": "stdout"
        }
      ]
    },
    {
      "cell_type": "code",
      "metadata": {
        "colab": {
          "base_uri": "https://localhost:8080/"
        },
        "id": "wu4lxMQqAwK1",
        "outputId": "7d38cbfe-09ca-4239-bdd5-0aa3ea3c9a40"
      },
      "source": [
        "print(y_train[0], y_train_encoded[0])"
      ],
      "execution_count": null,
      "outputs": [
        {
          "output_type": "stream",
          "text": [
            "6 [0. 0. 0. 0. 0. 0. 1. 0. 0. 0.]\n"
          ],
          "name": "stdout"
        }
      ]
    },
    {
      "cell_type": "code",
      "metadata": {
        "colab": {
          "base_uri": "https://localhost:8080/"
        },
        "id": "Td_EAO_6A9DI",
        "outputId": "1aedbc10-843a-45c4-f70d-50abece45c20"
      },
      "source": [
        "fc = MultiClassNetwork(units=100, batch_size=256)\r\n",
        "fc.fit(x_train, y_train_encoded, \r\n",
        "       x_val=x_val, y_val=y_val_encoded, epochs=40)"
      ],
      "execution_count": null,
      "outputs": [
        {
          "output_type": "stream",
          "text": [
            "."
          ],
          "name": "stdout"
        },
        {
          "output_type": "stream",
          "text": [
            "/usr/local/lib/python3.6/dist-packages/ipykernel_launcher.py:33: RuntimeWarning: overflow encountered in exp\n"
          ],
          "name": "stderr"
        },
        {
          "output_type": "stream",
          "text": [
            "......................................."
          ],
          "name": "stdout"
        }
      ]
    },
    {
      "cell_type": "code",
      "metadata": {
        "colab": {
          "base_uri": "https://localhost:8080/",
          "height": 279
        },
        "id": "3DtwyQXgBMoq",
        "outputId": "2d71458c-ee10-45f7-818f-c92b52a0e49d"
      },
      "source": [
        "plt.plot(fc.losses)\r\n",
        "plt.plot(fc.val_losses)\r\n",
        "plt.ylabel('loss')\r\n",
        "plt.xlabel('iteration')\r\n",
        "plt.legend(['train_loss', 'val_loss'])\r\n",
        "plt.show()"
      ],
      "execution_count": null,
      "outputs": [
        {
          "output_type": "display_data",
          "data": {
            "image/png": "[encoded data removed]",
            "text/plain": [
              "<Figure size 432x288 with 1 Axes>"
            ]
          },
          "metadata": {
            "tags": [],
            "needs_background": "light"
          }
        }
      ]
    },
    {
      "cell_type": "code",
      "metadata": {
        "colab": {
          "base_uri": "https://localhost:8080/"
        },
        "id": "XPGEi5KVEF1O",
        "outputId": "e84691a0-9d45-485c-c559-0851af94507e"
      },
      "source": [
        "fc.score(x_val, y_val_encoded)"
      ],
      "execution_count": null,
      "outputs": [
        {
          "output_type": "execute_result",
          "data": {
            "text/plain": [
              "0.7675"
            ]
          },
          "metadata": {
            "tags": []
          },
          "execution_count": 101
        }
      ]
    },
    {
      "cell_type": "markdown",
      "metadata": {
        "id": "SVm8FbQHLBth"
      },
      "source": [
        "7-2 텐서플로와 케라스를 사용하여 신경망을 만듭니다"
      ]
    },
    {
      "cell_type": "code",
      "metadata": {
        "id": "Y3S7TWHXLFXo"
      },
      "source": [
        "from tensorflow.keras import Sequential\r\n",
        "from tensorflow.keras.layers import Dense\r\n",
        "model = Sequential()"
      ],
      "execution_count": null,
      "outputs": []
    },
    {
      "cell_type": "code",
      "metadata": {
        "id": "_vUvbl2RPAXd"
      },
      "source": [
        "model.add(Dense(100, activation='sigmoid', input_shape=(784,)))\r\n",
        "model.add(Dense(10, activation='softmax'))"
      ],
      "execution_count": null,
      "outputs": []
    },
    {
      "cell_type": "code",
      "metadata": {
        "id": "jR0PU0DPM-Ax"
      },
      "source": [
        "model.compile(optimizer='sgd', loss='categorical_crossentropy', metrics=['accuracy'])"
      ],
      "execution_count": null,
      "outputs": []
    },
    {
      "cell_type": "code",
      "metadata": {
        "colab": {
          "base_uri": "https://localhost:8080/"
        },
        "id": "wply4hyzuCxv",
        "outputId": "a61f7b95-ccc4-4ff3-ac32-513578ea2708"
      },
      "source": [
        "history = model.fit(x_train, y_train_encoded, epochs=40, validation_data=(x_val, y_val_encoded))"
      ],
      "execution_count": null,
      "outputs": [
        {
          "output_type": "stream",
          "text": [
            "Train on 48000 samples, validate on 12000 samples\n",
            "Epoch 1/40\n",
            "48000/48000 [==============================] - 7s 138us/sample - loss: 1.0683 - accuracy: 0.6691 - val_loss: 1.3667 - val_accuracy: 0.6119\n",
            "Epoch 2/40\n",
            "48000/48000 [==============================] - 6s 115us/sample - loss: 0.7335 - accuracy: 0.7506 - val_loss: 1.1505 - val_accuracy: 0.6519\n",
            "Epoch 3/40\n",
            "48000/48000 [==============================] - 5s 112us/sample - loss: 0.7089 - accuracy: 0.7524 - val_loss: 1.0301 - val_accuracy: 0.6977\n",
            "Epoch 4/40\n",
            "48000/48000 [==============================] - 6s 117us/sample - loss: 0.6901 - accuracy: 0.7600 - val_loss: 0.9376 - val_accuracy: 0.7132\n",
            "Epoch 5/40\n",
            "48000/48000 [==============================] - 6s 118us/sample - loss: 0.6729 - accuracy: 0.7603 - val_loss: 0.8771 - val_accuracy: 0.7327\n",
            "Epoch 6/40\n",
            "48000/48000 [==============================] - 5s 114us/sample - loss: 0.6498 - accuracy: 0.7654 - val_loss: 0.8069 - val_accuracy: 0.7548\n",
            "Epoch 7/40\n",
            "48000/48000 [==============================] - 6s 115us/sample - loss: 0.6435 - accuracy: 0.7667 - val_loss: 0.7912 - val_accuracy: 0.7620\n",
            "Epoch 8/40\n",
            "48000/48000 [==============================] - 6s 115us/sample - loss: 0.6457 - accuracy: 0.7706 - val_loss: 0.7702 - val_accuracy: 0.7612\n",
            "Epoch 9/40\n",
            "48000/48000 [==============================] - 5s 114us/sample - loss: 0.6421 - accuracy: 0.7709 - val_loss: 0.7284 - val_accuracy: 0.7642\n",
            "Epoch 10/40\n",
            "48000/48000 [==============================] - 5s 114us/sample - loss: 0.6186 - accuracy: 0.7804 - val_loss: 0.7214 - val_accuracy: 0.7704\n",
            "Epoch 11/40\n",
            "48000/48000 [==============================] - 5s 112us/sample - loss: 0.6359 - accuracy: 0.7695 - val_loss: 0.7272 - val_accuracy: 0.7647\n",
            "Epoch 12/40\n",
            "48000/48000 [==============================] - 6s 121us/sample - loss: 0.6210 - accuracy: 0.7758 - val_loss: 0.7068 - val_accuracy: 0.7755\n",
            "Epoch 13/40\n",
            "48000/48000 [==============================] - 6s 120us/sample - loss: 0.6210 - accuracy: 0.7731 - val_loss: 0.7093 - val_accuracy: 0.7438\n",
            "Epoch 14/40\n",
            "48000/48000 [==============================] - 6s 118us/sample - loss: 0.6139 - accuracy: 0.7756 - val_loss: 0.6975 - val_accuracy: 0.7666\n",
            "Epoch 15/40\n",
            "48000/48000 [==============================] - 6s 120us/sample - loss: 0.6516 - accuracy: 0.7663 - val_loss: 0.6792 - val_accuracy: 0.7703\n",
            "Epoch 16/40\n",
            "48000/48000 [==============================] - 6s 116us/sample - loss: 0.6381 - accuracy: 0.7726 - val_loss: 0.6555 - val_accuracy: 0.7815\n",
            "Epoch 17/40\n",
            "48000/48000 [==============================] - 6s 115us/sample - loss: 0.6161 - accuracy: 0.7775 - val_loss: 0.7130 - val_accuracy: 0.7512\n",
            "Epoch 18/40\n",
            "48000/48000 [==============================] - 6s 120us/sample - loss: 0.6259 - accuracy: 0.7755 - val_loss: 0.6853 - val_accuracy: 0.7643\n",
            "Epoch 19/40\n",
            "48000/48000 [==============================] - 6s 117us/sample - loss: 0.6201 - accuracy: 0.7728 - val_loss: 0.6844 - val_accuracy: 0.7551\n",
            "Epoch 20/40\n",
            "48000/48000 [==============================] - 6s 117us/sample - loss: 0.6329 - accuracy: 0.7759 - val_loss: 0.7040 - val_accuracy: 0.7498\n",
            "Epoch 21/40\n",
            "48000/48000 [==============================] - 5s 113us/sample - loss: 0.6274 - accuracy: 0.7760 - val_loss: 0.7054 - val_accuracy: 0.7337\n",
            "Epoch 22/40\n",
            "48000/48000 [==============================] - 5s 112us/sample - loss: 0.6313 - accuracy: 0.7711 - val_loss: 0.6703 - val_accuracy: 0.7637\n",
            "Epoch 23/40\n",
            "48000/48000 [==============================] - 6s 119us/sample - loss: 0.6138 - accuracy: 0.7779 - val_loss: 0.6202 - val_accuracy: 0.7916\n",
            "Epoch 24/40\n",
            "48000/48000 [==============================] - 6s 122us/sample - loss: 0.6179 - accuracy: 0.7816 - val_loss: 0.6316 - val_accuracy: 0.7753\n",
            "Epoch 25/40\n",
            "48000/48000 [==============================] - 5s 115us/sample - loss: 0.6060 - accuracy: 0.7809 - val_loss: 0.6043 - val_accuracy: 0.7938\n",
            "Epoch 26/40\n",
            "48000/48000 [==============================] - 6s 122us/sample - loss: 0.6107 - accuracy: 0.7757 - val_loss: 0.6252 - val_accuracy: 0.7784\n",
            "Epoch 27/40\n",
            "48000/48000 [==============================] - 6s 124us/sample - loss: 0.6052 - accuracy: 0.7835 - val_loss: 0.5928 - val_accuracy: 0.7997\n",
            "Epoch 28/40\n",
            "48000/48000 [==============================] - 6s 119us/sample - loss: 0.6098 - accuracy: 0.7861 - val_loss: 0.6299 - val_accuracy: 0.7752\n",
            "Epoch 29/40\n",
            "48000/48000 [==============================] - 6s 123us/sample - loss: 0.6283 - accuracy: 0.7762 - val_loss: 0.6589 - val_accuracy: 0.7663\n",
            "Epoch 30/40\n",
            "48000/48000 [==============================] - 6s 121us/sample - loss: 0.6091 - accuracy: 0.7806 - val_loss: 0.6181 - val_accuracy: 0.7872\n",
            "Epoch 31/40\n",
            "48000/48000 [==============================] - 6s 127us/sample - loss: 0.6468 - accuracy: 0.7714 - val_loss: 0.6388 - val_accuracy: 0.7925\n",
            "Epoch 32/40\n",
            "48000/48000 [==============================] - 6s 118us/sample - loss: 0.6313 - accuracy: 0.7767 - val_loss: 0.6378 - val_accuracy: 0.7759\n",
            "Epoch 33/40\n",
            "48000/48000 [==============================] - 6s 120us/sample - loss: 0.6265 - accuracy: 0.7752 - val_loss: 0.6366 - val_accuracy: 0.7774\n",
            "Epoch 34/40\n",
            "48000/48000 [==============================] - 6s 118us/sample - loss: 0.6315 - accuracy: 0.7785 - val_loss: 0.6231 - val_accuracy: 0.7733\n",
            "Epoch 35/40\n",
            "48000/48000 [==============================] - 6s 116us/sample - loss: 0.6087 - accuracy: 0.7846 - val_loss: 0.5944 - val_accuracy: 0.7882\n",
            "Epoch 36/40\n",
            "48000/48000 [==============================] - 6s 118us/sample - loss: 0.6157 - accuracy: 0.7815 - val_loss: 0.5975 - val_accuracy: 0.7935\n",
            "Epoch 37/40\n",
            "48000/48000 [==============================] - 9s 180us/sample - loss: 0.5991 - accuracy: 0.7845 - val_loss: 0.5752 - val_accuracy: 0.8012\n",
            "Epoch 38/40\n",
            "48000/48000 [==============================] - 6s 117us/sample - loss: 0.6045 - accuracy: 0.7834 - val_loss: 0.5996 - val_accuracy: 0.7969\n",
            "Epoch 39/40\n",
            "48000/48000 [==============================] - 6s 118us/sample - loss: 0.6192 - accuracy: 0.7719 - val_loss: 0.6008 - val_accuracy: 0.7908\n",
            "Epoch 40/40\n",
            "48000/48000 [==============================] - 7s 150us/sample - loss: 0.5998 - accuracy: 0.7825 - val_loss: 0.5890 - val_accuracy: 0.7921\n"
          ],
          "name": "stdout"
        }
      ]
    },
    {
      "cell_type": "code",
      "metadata": {
        "colab": {
          "base_uri": "https://localhost:8080/"
        },
        "id": "1YknfYbjucoU",
        "outputId": "22d1e1bc-bf18-41c5-f12c-2c57bd60f3b2"
      },
      "source": [
        "print(history.history.keys())"
      ],
      "execution_count": null,
      "outputs": [
        {
          "output_type": "stream",
          "text": [
            "dict_keys(['loss', 'accuracy', 'val_loss', 'val_accuracy'])\n"
          ],
          "name": "stdout"
        }
      ]
    },
    {
      "cell_type": "code",
      "metadata": {
        "colab": {
          "base_uri": "https://localhost:8080/",
          "height": 544
        },
        "id": "15PrSEBguoge",
        "outputId": "9958baf5-da56-4ccb-ee2b-0bdc7fa8baf4"
      },
      "source": [
        "plt.plot(history.history['loss'])\r\n",
        "plt.plot(history.history['val_loss'])\r\n",
        "plt.ylabel('loss')\r\n",
        "plt.xlabel('epoch')\r\n",
        "plt.legend(['train_loss', 'val_loss'])\r\n",
        "plt.show()\r\n",
        "\r\n",
        "plt.plot(history.history['accuracy'])\r\n",
        "plt.plot(history.history['val_accuracy'])\r\n",
        "plt.ylabel('accuracy')\r\n",
        "plt.xlabel('epoch')\r\n",
        "plt.legend(['train_accuracy', 'val_accuracy'])\r\n",
        "plt.show()"
      ],
      "execution_count": null,
      "outputs": [
        {
          "output_type": "display_data",
          "data": {
            "image/png": "[encoded data removed]",
            "text/plain": [
              "<Figure size 432x288 with 1 Axes>"
            ]
          },
          "metadata": {
            "tags": [],
            "needs_background": "light"
          }
        },
        {
          "output_type": "display_data",
          "data": {
            "image/png": "[encoded data removed]",
            "text/plain": [
              "<Figure size 432x288 with 1 Axes>"
            ]
          },
          "metadata": {
            "tags": [],
            "needs_background": "light"
          }
        }
      ]
    },
    {
      "cell_type": "code",
      "metadata": {
        "colab": {
          "base_uri": "https://localhost:8080/"
        },
        "id": "SgxrmA_UvJnC",
        "outputId": "552b5c3c-9723-4172-a157-8a5afd5eb2d2"
      },
      "source": [
        "loss, accuracy = model.evaluate(x_val, y_val_encoded, verbose=0)\r\n",
        "print(accuracy)"
      ],
      "execution_count": null,
      "outputs": [
        {
          "output_type": "stream",
          "text": [
            "0.7920833\n"
          ],
          "name": "stdout"
        }
      ]
    },
    {
      "cell_type": "code",
      "metadata": {
        "id": "cCez9aD7vanO"
      },
      "source": [
        ""
      ],
      "execution_count": null,
      "outputs": []
    }
  ]
}