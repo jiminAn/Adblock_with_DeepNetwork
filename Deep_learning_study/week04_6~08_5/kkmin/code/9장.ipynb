{
  "nbformat": 4,
  "nbformat_minor": 0,
  "metadata": {
    "colab": {
      "name": "9장.ipynb",
      "provenance": [],
      "collapsed_sections": []
    },
    "kernelspec": {
      "name": "python3",
      "display_name": "Python 3"
    }
  },
  "cells": [
    {
      "cell_type": "markdown",
      "metadata": {
        "id": "RmPzwg58uoaD"
      },
      "source": [
        "9-1 순차 데이터와 순차 신경망을 배웁니다"
      ]
    },
    {
      "cell_type": "code",
      "metadata": {
        "colab": {
          "base_uri": "https://localhost:8080/"
        },
        "id": "Lv8yo_FUucRc",
        "outputId": "a92dc301-d9ad-409f-ce53-b3336884b98e"
      },
      "source": [
        "import numpy as np\r\n",
        "from tensorflow.keras.datasets import imdb\r\n",
        "\r\n",
        "(x_train_all, y_train_all), (x_test, y_test) = imdb.load_data(skip_top=20, num_words=100)"
      ],
      "execution_count": null,
      "outputs": [
        {
          "output_type": "stream",
          "text": [
            "<string>:6: VisibleDeprecationWarning: Creating an ndarray from ragged nested sequences (which is a list-or-tuple of lists-or-tuples-or ndarrays with different lengths or shapes) is deprecated. If you meant to do this, you must specify 'dtype=object' when creating the ndarray\n",
            "/usr/local/lib/python3.6/dist-packages/tensorflow/python/keras/datasets/imdb.py:159: VisibleDeprecationWarning: Creating an ndarray from ragged nested sequences (which is a list-or-tuple of lists-or-tuples-or ndarrays with different lengths or shapes) is deprecated. If you meant to do this, you must specify 'dtype=object' when creating the ndarray\n",
            "  x_train, y_train = np.array(xs[:idx]), np.array(labels[:idx])\n",
            "/usr/local/lib/python3.6/dist-packages/tensorflow/python/keras/datasets/imdb.py:160: VisibleDeprecationWarning: Creating an ndarray from ragged nested sequences (which is a list-or-tuple of lists-or-tuples-or ndarrays with different lengths or shapes) is deprecated. If you meant to do this, you must specify 'dtype=object' when creating the ndarray\n",
            "  x_test, y_test = np.array(xs[idx:]), np.array(labels[idx:])\n"
          ],
          "name": "stderr"
        }
      ]
    },
    {
      "cell_type": "code",
      "metadata": {
        "colab": {
          "base_uri": "https://localhost:8080/"
        },
        "id": "6o_1zVJSC1dM",
        "outputId": "3f26fd60-4af5-434c-ea32-f865db03ec38"
      },
      "source": [
        "print(x_train_all.shape, y_train_all.shape)"
      ],
      "execution_count": null,
      "outputs": [
        {
          "output_type": "stream",
          "text": [
            "(25000,) (25000,)\n"
          ],
          "name": "stdout"
        }
      ]
    },
    {
      "cell_type": "code",
      "metadata": {
        "colab": {
          "base_uri": "https://localhost:8080/"
        },
        "id": "dyVH9s8oC4re",
        "outputId": "efe4db1d-9fc5-4910-b6d6-9ad878ecaff1"
      },
      "source": [
        "print(x_train_all[0])"
      ],
      "execution_count": null,
      "outputs": [
        {
          "output_type": "stream",
          "text": [
            "[2, 2, 22, 2, 43, 2, 2, 2, 2, 65, 2, 2, 66, 2, 2, 2, 36, 2, 2, 25, 2, 43, 2, 2, 50, 2, 2, 2, 35, 2, 2, 2, 2, 2, 2, 2, 2, 2, 2, 2, 39, 2, 2, 2, 2, 2, 2, 38, 2, 2, 2, 2, 50, 2, 2, 2, 2, 2, 2, 22, 2, 2, 2, 2, 2, 22, 71, 87, 2, 2, 43, 2, 38, 76, 2, 2, 2, 2, 22, 2, 2, 2, 2, 2, 2, 2, 2, 2, 62, 2, 2, 2, 2, 2, 2, 2, 2, 2, 2, 2, 2, 66, 2, 33, 2, 2, 2, 2, 38, 2, 2, 25, 2, 51, 36, 2, 48, 25, 2, 33, 2, 22, 2, 2, 28, 77, 52, 2, 2, 2, 2, 82, 2, 2, 2, 2, 2, 2, 2, 2, 2, 2, 2, 2, 2, 2, 36, 71, 43, 2, 2, 26, 2, 2, 46, 2, 2, 2, 2, 2, 2, 88, 2, 2, 2, 2, 98, 32, 2, 56, 26, 2, 2, 2, 2, 2, 2, 2, 22, 21, 2, 2, 26, 2, 2, 2, 30, 2, 2, 51, 36, 28, 2, 92, 25, 2, 2, 2, 65, 2, 38, 2, 88, 2, 2, 2, 2, 2, 2, 2, 2, 32, 2, 2, 2, 2, 2, 32]\n"
          ],
          "name": "stdout"
        }
      ]
    },
    {
      "cell_type": "code",
      "metadata": {
        "colab": {
          "base_uri": "https://localhost:8080/"
        },
        "id": "AjNfZdS-DCwf",
        "outputId": "7baa7641-3abe-4230-95ab-558ee319a13b"
      },
      "source": [
        "for i in range(len(x_train_all)):\r\n",
        "  x_train_all[i] = [w for w in x_train_all[i] if w > 2]\r\n",
        "\r\n",
        "print(x_train_all[0])"
      ],
      "execution_count": null,
      "outputs": [
        {
          "output_type": "stream",
          "text": [
            "[22, 43, 65, 66, 36, 25, 43, 50, 35, 39, 38, 50, 22, 22, 71, 87, 43, 38, 76, 22, 62, 66, 33, 38, 25, 51, 36, 48, 25, 33, 22, 28, 77, 52, 82, 36, 71, 43, 26, 46, 88, 98, 32, 56, 26, 22, 21, 26, 30, 51, 36, 28, 92, 25, 65, 38, 88, 32, 32]\n"
          ],
          "name": "stdout"
        }
      ]
    },
    {
      "cell_type": "code",
      "metadata": {
        "colab": {
          "base_uri": "https://localhost:8080/"
        },
        "id": "O7U1cSWRDPiW",
        "outputId": "6dbb6d8d-07b3-4ecd-a0e8-be911fc00c5e"
      },
      "source": [
        "word_to_index = imdb.get_word_index()\r\n",
        "word_to_index['movie']"
      ],
      "execution_count": null,
      "outputs": [
        {
          "output_type": "execute_result",
          "data": {
            "text/plain": [
              "17"
            ]
          },
          "metadata": {
            "tags": []
          },
          "execution_count": 96
        }
      ]
    },
    {
      "cell_type": "code",
      "metadata": {
        "colab": {
          "base_uri": "https://localhost:8080/"
        },
        "id": "klBiepbZDbLC",
        "outputId": "d179f9a9-7040-47cf-9c3b-24064f7324c2"
      },
      "source": [
        "index_to_word = {word_to_index[k]: k for k in word_to_index}\r\n",
        "\r\n",
        "for w in x_train_all[0]:\r\n",
        "  print(index_to_word[w-3], end=' ')"
      ],
      "execution_count": null,
      "outputs": [
        {
          "output_type": "stream",
          "text": [
            "film just story really they you just there an from so there film film were great just so much film would really at so you what they if you at film have been good also they were just are out because them all up are film but are be what they have don't you story so because all all "
          ],
          "name": "stdout"
        }
      ]
    },
    {
      "cell_type": "code",
      "metadata": {
        "colab": {
          "base_uri": "https://localhost:8080/"
        },
        "id": "PcUnGSKnD-m5",
        "outputId": "ab1dce7f-3c7f-4c59-adef-f33d0f946b67"
      },
      "source": [
        "print(len(x_train_all[0]), len(x_train_all[1]))"
      ],
      "execution_count": null,
      "outputs": [
        {
          "output_type": "stream",
          "text": [
            "59 32\n"
          ],
          "name": "stdout"
        }
      ]
    },
    {
      "cell_type": "code",
      "metadata": {
        "colab": {
          "base_uri": "https://localhost:8080/"
        },
        "id": "GnN876llELUW",
        "outputId": "ae9c13e8-dc38-456c-8ede-0506f050a8f9"
      },
      "source": [
        "print(y_train_all[:10])"
      ],
      "execution_count": null,
      "outputs": [
        {
          "output_type": "stream",
          "text": [
            "[1 0 0 1 0 0 1 0 1 0]\n"
          ],
          "name": "stdout"
        }
      ]
    },
    {
      "cell_type": "code",
      "metadata": {
        "id": "9J0Qlw1qEVY9"
      },
      "source": [
        "np.random.seed(42)\r\n",
        "random_index = np.random.permutation(25000)\r\n",
        "\r\n",
        "x_train = x_train_all[random_index[:20000]]\r\n",
        "y_train = y_train_all[random_index[:20000]]\r\n",
        "x_val = x_train_all[random_index[20000:]]\r\n",
        "y_val = y_train_all[random_index[20000:]]\r\n"
      ],
      "execution_count": null,
      "outputs": []
    },
    {
      "cell_type": "code",
      "metadata": {
        "id": "5GJbWIx7EoLr"
      },
      "source": [
        "from tensorflow.keras.preprocessing import sequence\r\n",
        "\r\n",
        "maxlen = 100\r\n",
        "x_train_seq = sequence.pad_sequences(x_train, maxlen=maxlen)\r\n",
        "x_val_seq = sequence.pad_sequences(x_val, maxlen=maxlen)"
      ],
      "execution_count": null,
      "outputs": []
    },
    {
      "cell_type": "code",
      "metadata": {
        "colab": {
          "base_uri": "https://localhost:8080/"
        },
        "id": "030LkDC7FBJl",
        "outputId": "102abeef-cc01-4324-ac40-7558f5623c71"
      },
      "source": [
        "print(x_train_seq.shape, x_val_seq.shape)"
      ],
      "execution_count": null,
      "outputs": [
        {
          "output_type": "stream",
          "text": [
            "(20000, 100) (5000, 100)\n"
          ],
          "name": "stdout"
        }
      ]
    },
    {
      "cell_type": "code",
      "metadata": {
        "colab": {
          "base_uri": "https://localhost:8080/"
        },
        "id": "xtAHjT5UFFAW",
        "outputId": "88965eb7-39dd-4a3b-ab7c-5039edd72f2c"
      },
      "source": [
        "print(x_train_seq[0])"
      ],
      "execution_count": null,
      "outputs": [
        {
          "output_type": "stream",
          "text": [
            "[ 0  0  0  0  0  0  0  0  0  0  0  0  0  0  0  0  0  0  0  0  0  0  0  0\n",
            "  0  0  0  0  0  0  0  0  0  0  0  0  0  0  0  0  0  0  0  0  0  0  0  0\n",
            "  0  0  0  0  0  0  0  0  0  0  0  0  0  0 35 40 27 28 40 22 83 31 85 45\n",
            " 24 23 31 70 31 76 30 98 32 22 28 51 75 56 30 33 97 53 38 46 53 74 31 35\n",
            " 23 34 22 58]\n"
          ],
          "name": "stdout"
        }
      ]
    },
    {
      "cell_type": "code",
      "metadata": {
        "id": "8ScsNB5IFTa3"
      },
      "source": [
        "from tensorflow.keras.utils import to_categorical\r\n",
        "\r\n",
        "x_train_onehot = to_categorical(x_train_seq)\r\n",
        "x_val_onehot = to_categorical(x_val_seq)"
      ],
      "execution_count": null,
      "outputs": []
    },
    {
      "cell_type": "code",
      "metadata": {
        "colab": {
          "base_uri": "https://localhost:8080/"
        },
        "id": "YKdYs4_yFeS2",
        "outputId": "8801ef83-0f65-4adb-f21c-00d3e631c082"
      },
      "source": [
        "print(x_train_onehot.shape)"
      ],
      "execution_count": null,
      "outputs": [
        {
          "output_type": "stream",
          "text": [
            "(20000, 100, 100)\n"
          ],
          "name": "stdout"
        }
      ]
    },
    {
      "cell_type": "code",
      "metadata": {
        "colab": {
          "base_uri": "https://localhost:8080/"
        },
        "id": "F213n37QFj35",
        "outputId": "49df964d-d3bc-436e-ada8-42fb1400a2cb"
      },
      "source": [
        "print(x_train_onehot.nbytes)"
      ],
      "execution_count": null,
      "outputs": [
        {
          "output_type": "stream",
          "text": [
            "800000000\n"
          ],
          "name": "stdout"
        }
      ]
    },
    {
      "cell_type": "code",
      "metadata": {
        "id": "BUke6AqSF6J8"
      },
      "source": [
        "import tensorflow as tf\r\n",
        "\r\n",
        "class RecurrentNetwork:\r\n",
        "  def __init__(self, n_cells=10, batch_size=32, learning_rate=0.1):\r\n",
        "    self.n_cells = n_cells\r\n",
        "    self.batch_size = batch_size\r\n",
        "    self.w1h = None\r\n",
        "    self.w1x = None\r\n",
        "    self.b1 = None\r\n",
        "    self.w2 = None\r\n",
        "    self.b2 = None\r\n",
        "    self.h = None\r\n",
        "    self.losses = []\r\n",
        "    self.val_losses = []\r\n",
        "    self.lr = learning_rate\r\n",
        "\r\n",
        "  def forpass(self, x):\r\n",
        "    self.h = [np.zeros((x.shape[0], self.n_cells))]\r\n",
        "    seq = np.swapaxes(x, 0, 1)\r\n",
        "    for x in seq:\r\n",
        "      z1 = np.dot(x, self.w1x) + np.dot(self.h[-1], self.w1h) + self.b1\r\n",
        "      h = np.tanh(z1)\r\n",
        "      self.h.append(h)\r\n",
        "      z2 = np.dot(h, self.w2) + self.b2\r\n",
        "    return z2\r\n",
        "\r\n",
        "  def backprop(self, x, err):\r\n",
        "    m = len(x)\r\n",
        "\r\n",
        "    w2_grad = np.dot(self.h[-1].T, err) / m \r\n",
        "    b2_grad = np.sum(err) / m\r\n",
        "    seq = np.swapaxes(x, 0 ,1)\r\n",
        "\r\n",
        "    w1h_grad = w1x_grad = b1_grad = 0\r\n",
        "    err_to_cell = np.dot(err, self.w2.T) * (1 - self.h[-1] ** 2)\r\n",
        "    for x, h in zip(seq[::-1][:10], self.h[:-1][::-1][:10]):\r\n",
        "      w1h_grad += np.dot(h.T, err_to_cell)\r\n",
        "      w1x_grad += np.dot(x.T, err_to_cell)\r\n",
        "      b1_grad += np.sum(err_to_cell, axis=0)\r\n",
        "      err_to_cell = np.dot(err_to_cell, self.w1h) * (1 - h ** 2)\r\n",
        "\r\n",
        "    w1h_grad /= m\r\n",
        "    w1x_grad /= m\r\n",
        "    b1_grad /= m\r\n",
        "\r\n",
        "    return w1h_grad, w1x_grad, b1_grad, w2_grad, b2_grad\r\n",
        "\r\n",
        "  def sigmoid(self, z):\r\n",
        "    a = 1/ (1 + np.exp(-z))\r\n",
        "    return a\r\n",
        "\r\n",
        "  def init_weights(self, n_features, n_classes):\r\n",
        "    orth_init = tf.initializers.Orthogonal()\r\n",
        "    glorot_init = tf.initializers.GlorotUniform()\r\n",
        "\r\n",
        "    self.w1h = orth_init((self.n_cells, self.n_cells)).numpy()\r\n",
        "    self.w1x = glorot_init((n_features, self.n_cells)).numpy()\r\n",
        "    self.b1 = np.zeros(self.n_cells)\r\n",
        "    self.w2 = glorot_init((self.n_cells, n_classes)).numpy()\r\n",
        "    self.b2 = np.zeros(n_classes)\r\n",
        "\r\n",
        "  def fit(self, x, y, epochs=100, x_val=None, y_val=None):\r\n",
        "    y = y.reshape(-1, 1)\r\n",
        "    y_val = y_val.reshape(-1, 1)\r\n",
        "    np.random.seed(42)\r\n",
        "    self.init_weights(x.shape[2], y.shape[1])\r\n",
        "\r\n",
        "    for i in range(epochs):\r\n",
        "      print('에포크', i, end=' ')\r\n",
        "      batch_losses = []\r\n",
        "      for x_batch, y_batch in self.gen_batch(x, y):\r\n",
        "        print('.', end='')\r\n",
        "        a = self.training(x_batch, y_batch)\r\n",
        "\r\n",
        "        a = np.clip(a, 1e-10, 1-1e-10)\r\n",
        "        loss = np.mean(-(y_batch*np.log(a) + (1-y_batch)*np.log(1-a)))\r\n",
        "        batch_losses.append(loss)\r\n",
        "      print()\r\n",
        "      self.losses.append(np.mean(batch_losses))\r\n",
        "      self.update_val_loss(x_val, y_val)\r\n",
        "\r\n",
        "\r\n",
        "  def gen_batch(self, x, y):\r\n",
        "    length = len(x)\r\n",
        "    bins = length // self.batch_size\r\n",
        "    if length % self.batch_size:\r\n",
        "      bins += 1\r\n",
        "    indexes = np.random.permutation(np.arange(len(x)))\r\n",
        "    x = x[indexes]\r\n",
        "    y = y[indexes]\r\n",
        "    for i in range(bins):\r\n",
        "      start = self.batch_size * i\r\n",
        "      end = self.batch_size * (i + 1)\r\n",
        "      yield x[start:end], y[start:end]\r\n",
        "\r\n",
        "  def training(self, x, y):\r\n",
        "    m = len(x)\r\n",
        "    z = self.forpass(x)\r\n",
        "    a = self.sigmoid(z)\r\n",
        "    err = - (y - a)\r\n",
        "\r\n",
        "    w1h_grad, w1x_grad, b1_grad, w2_grad, b2_grad = self.backprop(x, err)\r\n",
        "\r\n",
        "    self.w1h -= self.lr * w1h_grad\r\n",
        "    self.w1x -= self.lr * w1x_grad\r\n",
        "    self.b1 -= self.lr * b1_grad\r\n",
        "    self.w2 -= self.lr * w2_grad\r\n",
        "    self.b2 -= self.lr * b2_grad\r\n",
        "    return a\r\n",
        "\r\n",
        "  def predict(self, x):\r\n",
        "    z = self.forpass(x)\r\n",
        "    return z > 0\r\n",
        "\r\n",
        "  def score(self, x, y):\r\n",
        "    return np.mean(self.predict(x) == y.reshape(-1, 1))\r\n",
        "\r\n",
        "  def update_val_loss(self, x_val, y_val):\r\n",
        "    z = self.forpass(x_val)\r\n",
        "    a = self.sigmoid(z)\r\n",
        "    a = np.clip(a, 1e-10, 1-1e-10)\r\n",
        "    val_loss = np.mean(-(y_val*np.log(a) + (1-y_val)*np.log(1-a)))\r\n",
        "    self.val_losses.append(val_loss)"
      ],
      "execution_count": null,
      "outputs": []
    },
    {
      "cell_type": "code",
      "metadata": {
        "colab": {
          "base_uri": "https://localhost:8080/"
        },
        "id": "2qk39rWgnXZT",
        "outputId": "3b109774-d02c-4d6a-bea5-f810ff5758dd"
      },
      "source": [
        "rn = RecurrentNetwork(n_cells=32, batch_size=32, learning_rate=0.01)\r\n",
        "\r\n",
        "rn.fit(x_train_onehot, y_train, epochs=20, x_val=x_val_onehot, y_val=y_val)"
      ],
      "execution_count": null,
      "outputs": [
        {
          "output_type": "stream",
          "text": [
            "에포크 0 .................................................................................................................................................................................................................................................................................................................................................................................................................................................................................................................................................................................................................................................\n",
            "에포크 1 .................................................................................................................................................................................................................................................................................................................................................................................................................................................................................................................................................................................................................................................\n",
            "에포크 2 .................................................................................................................................................................................................................................................................................................................................................................................................................................................................................................................................................................................................................................................\n",
            "에포크 3 .................................................................................................................................................................................................................................................................................................................................................................................................................................................................................................................................................................................................................................................\n",
            "에포크 4 .................................................................................................................................................................................................................................................................................................................................................................................................................................................................................................................................................................................................................................................\n",
            "에포크 5 .................................................................................................................................................................................................................................................................................................................................................................................................................................................................................................................................................................................................................................................\n",
            "에포크 6 .................................................................................................................................................................................................................................................................................................................................................................................................................................................................................................................................................................................................................................................\n",
            "에포크 7 .................................................................................................................................................................................................................................................................................................................................................................................................................................................................................................................................................................................................................................................\n",
            "에포크 8 .................................................................................................................................................................................................................................................................................................................................................................................................................................................................................................................................................................................................................................................\n",
            "에포크 9 .................................................................................................................................................................................................................................................................................................................................................................................................................................................................................................................................................................................................................................................\n",
            "에포크 10 .................................................................................................................................................................................................................................................................................................................................................................................................................................................................................................................................................................................................................................................\n",
            "에포크 11 .................................................................................................................................................................................................................................................................................................................................................................................................................................................................................................................................................................................................................................................\n",
            "에포크 12 .................................................................................................................................................................................................................................................................................................................................................................................................................................................................................................................................................................................................................................................\n",
            "에포크 13 .................................................................................................................................................................................................................................................................................................................................................................................................................................................................................................................................................................................................................................................\n",
            "에포크 14 .................................................................................................................................................................................................................................................................................................................................................................................................................................................................................................................................................................................................................................................\n",
            "에포크 15 .................................................................................................................................................................................................................................................................................................................................................................................................................................................................................................................................................................................................................................................\n",
            "에포크 16 .................................................................................................................................................................................................................................................................................................................................................................................................................................................................................................................................................................................................................................................\n",
            "에포크 17 .................................................................................................................................................................................................................................................................................................................................................................................................................................................................................................................................................................................................................................................\n",
            "에포크 18 .................................................................................................................................................................................................................................................................................................................................................................................................................................................................................................................................................................................................................................................\n",
            "에포크 19 .................................................................................................................................................................................................................................................................................................................................................................................................................................................................................................................................................................................................................................................\n"
          ],
          "name": "stdout"
        }
      ]
    },
    {
      "cell_type": "code",
      "metadata": {
        "colab": {
          "base_uri": "https://localhost:8080/",
          "height": 265
        },
        "id": "uuFRlc_vno6z",
        "outputId": "08ac090f-9f2d-4afc-9d9e-10ff4a3b9673"
      },
      "source": [
        "import matplotlib.pyplot as plt\r\n",
        "\r\n",
        "plt.plot(rn.losses)\r\n",
        "plt.plot(rn.val_losses)\r\n",
        "plt.show()"
      ],
      "execution_count": null,
      "outputs": [
        {
          "output_type": "display_data",
          "data": {
            "image/png": "[encoded data removed]",
            "text/plain": [
              "<Figure size 432x288 with 1 Axes>"
            ]
          },
          "metadata": {
            "tags": [],
            "needs_background": "light"
          }
        }
      ]
    },
    {
      "cell_type": "code",
      "metadata": {
        "colab": {
          "base_uri": "https://localhost:8080/"
        },
        "id": "rWAlQZrJqfJ7",
        "outputId": "d0f36dbf-69ab-4d45-e35d-37af56e14ba8"
      },
      "source": [
        "rn.score(x_val_onehot, y_val)"
      ],
      "execution_count": null,
      "outputs": [
        {
          "output_type": "execute_result",
          "data": {
            "text/plain": [
              "0.6822"
            ]
          },
          "metadata": {
            "tags": []
          },
          "execution_count": 118
        }
      ]
    },
    {
      "cell_type": "code",
      "metadata": {
        "id": "oURv-mKzqiOL"
      },
      "source": [
        "from tensorflow.keras.models import Sequential\r\n",
        "from tensorflow.keras.layers import Dense, SimpleRNN"
      ],
      "execution_count": null,
      "outputs": []
    },
    {
      "cell_type": "code",
      "metadata": {
        "colab": {
          "base_uri": "https://localhost:8080/"
        },
        "id": "wYr5lYZ5ueH3",
        "outputId": "c98ab99c-b488-4e7d-b94d-6c73b2939947"
      },
      "source": [
        "model = Sequential()\r\n",
        "\r\n",
        "model.add(SimpleRNN(32, input_shape=(100, 100)))\r\n",
        "model.add(Dense(1, activation='sigmoid'))\r\n",
        "\r\n",
        "model.summary()"
      ],
      "execution_count": null,
      "outputs": [
        {
          "output_type": "stream",
          "text": [
            "Model: \"sequential\"\n",
            "_________________________________________________________________\n",
            "Layer (type)                 Output Shape              Param #   \n",
            "=================================================================\n",
            "simple_rnn (SimpleRNN)       (None, 32)                4256      \n",
            "_________________________________________________________________\n",
            "dense (Dense)                (None, 1)                 33        \n",
            "=================================================================\n",
            "Total params: 4,289\n",
            "Trainable params: 4,289\n",
            "Non-trainable params: 0\n",
            "_________________________________________________________________\n"
          ],
          "name": "stdout"
        }
      ]
    },
    {
      "cell_type": "code",
      "metadata": {
        "colab": {
          "base_uri": "https://localhost:8080/"
        },
        "id": "NUtghLLXutmP",
        "outputId": "84076ae9-6b05-4455-883c-a0ed4f38f9fc"
      },
      "source": [
        "model.compile(optimizer='sgd', loss='binary_crossentropy', metrics=['accuracy'])\r\n",
        "\r\n",
        "history = model.fit(x_train_onehot, y_train, epochs=20, batch_size=32, validation_data=(x_val_onehot, y_val))"
      ],
      "execution_count": null,
      "outputs": [
        {
          "output_type": "stream",
          "text": [
            "Epoch 1/20\n",
            "625/625 [==============================] - 12s 18ms/step - loss: 0.7044 - accuracy: 0.4996 - val_loss: 0.6978 - val_accuracy: 0.5054\n",
            "Epoch 2/20\n",
            "625/625 [==============================] - 11s 18ms/step - loss: 0.6953 - accuracy: 0.5138 - val_loss: 0.6932 - val_accuracy: 0.5160\n",
            "Epoch 3/20\n",
            "625/625 [==============================] - 11s 17ms/step - loss: 0.6895 - accuracy: 0.5328 - val_loss: 0.6822 - val_accuracy: 0.5640\n",
            "Epoch 4/20\n",
            "625/625 [==============================] - 11s 18ms/step - loss: 0.6765 - accuracy: 0.5704 - val_loss: 0.6616 - val_accuracy: 0.6046\n",
            "Epoch 5/20\n",
            "625/625 [==============================] - 11s 18ms/step - loss: 0.6565 - accuracy: 0.6084 - val_loss: 0.6380 - val_accuracy: 0.6382\n",
            "Epoch 6/20\n",
            "625/625 [==============================] - 11s 18ms/step - loss: 0.6411 - accuracy: 0.6337 - val_loss: 0.6175 - val_accuracy: 0.6644\n",
            "Epoch 7/20\n",
            "625/625 [==============================] - 12s 19ms/step - loss: 0.6195 - accuracy: 0.6599 - val_loss: 0.6410 - val_accuracy: 0.6304\n",
            "Epoch 8/20\n",
            "625/625 [==============================] - 12s 19ms/step - loss: 0.6113 - accuracy: 0.6686 - val_loss: 0.6016 - val_accuracy: 0.6782\n",
            "Epoch 9/20\n",
            "625/625 [==============================] - 12s 19ms/step - loss: 0.6007 - accuracy: 0.6782 - val_loss: 0.5804 - val_accuracy: 0.6958\n",
            "Epoch 10/20\n",
            "625/625 [==============================] - 12s 18ms/step - loss: 0.5956 - accuracy: 0.6831 - val_loss: 0.5954 - val_accuracy: 0.6784\n",
            "Epoch 11/20\n",
            "625/625 [==============================] - 12s 19ms/step - loss: 0.5888 - accuracy: 0.6844 - val_loss: 0.6215 - val_accuracy: 0.6620\n",
            "Epoch 12/20\n",
            "625/625 [==============================] - 12s 18ms/step - loss: 0.5849 - accuracy: 0.6964 - val_loss: 0.5849 - val_accuracy: 0.6888\n",
            "Epoch 13/20\n",
            "625/625 [==============================] - 12s 19ms/step - loss: 0.5824 - accuracy: 0.6966 - val_loss: 0.5836 - val_accuracy: 0.6956\n",
            "Epoch 14/20\n",
            "625/625 [==============================] - 11s 18ms/step - loss: 0.5764 - accuracy: 0.7007 - val_loss: 0.5902 - val_accuracy: 0.6882\n",
            "Epoch 15/20\n",
            "625/625 [==============================] - 11s 18ms/step - loss: 0.5771 - accuracy: 0.6962 - val_loss: 0.5770 - val_accuracy: 0.6970\n",
            "Epoch 16/20\n",
            "625/625 [==============================] - 11s 18ms/step - loss: 0.5742 - accuracy: 0.7011 - val_loss: 0.5789 - val_accuracy: 0.6974\n",
            "Epoch 17/20\n",
            "625/625 [==============================] - 12s 20ms/step - loss: 0.5786 - accuracy: 0.6978 - val_loss: 0.5730 - val_accuracy: 0.6988\n",
            "Epoch 18/20\n",
            "625/625 [==============================] - 13s 20ms/step - loss: 0.5693 - accuracy: 0.7068 - val_loss: 0.5656 - val_accuracy: 0.7078\n",
            "Epoch 19/20\n",
            "625/625 [==============================] - 11s 18ms/step - loss: 0.5728 - accuracy: 0.7000 - val_loss: 0.5754 - val_accuracy: 0.6954\n",
            "Epoch 20/20\n",
            "625/625 [==============================] - 11s 18ms/step - loss: 0.5630 - accuracy: 0.7097 - val_loss: 0.5742 - val_accuracy: 0.7020\n"
          ],
          "name": "stdout"
        }
      ]
    },
    {
      "cell_type": "code",
      "metadata": {
        "colab": {
          "base_uri": "https://localhost:8080/",
          "height": 265
        },
        "id": "kZPLhROGvG-T",
        "outputId": "bea4b841-6607-4675-ed8f-c82aaaca33c1"
      },
      "source": [
        "plt.plot(history.history['loss'])\r\n",
        "plt.plot(history.history['val_loss'])\r\n",
        "plt.show()"
      ],
      "execution_count": null,
      "outputs": [
        {
          "output_type": "display_data",
          "data": {
            "image/png": "[encoded data removed]",
            "text/plain": [
              "<Figure size 432x288 with 1 Axes>"
            ]
          },
          "metadata": {
            "tags": [],
            "needs_background": "light"
          }
        }
      ]
    },
    {
      "cell_type": "code",
      "metadata": {
        "colab": {
          "base_uri": "https://localhost:8080/",
          "height": 265
        },
        "id": "q6iba3J4vBcs",
        "outputId": "aa395e55-894c-4eb9-ef55-43767afd343f"
      },
      "source": [
        "plt.plot(history.history['accuracy'])\r\n",
        "plt.plot(history.history['val_accuracy'])\r\n",
        "plt.show()"
      ],
      "execution_count": null,
      "outputs": [
        {
          "output_type": "display_data",
          "data": {
            "image/png": "[encoded data removed]",
            "text/plain": [
              "<Figure size 432x288 with 1 Axes>"
            ]
          },
          "metadata": {
            "tags": [],
            "needs_background": "light"
          }
        }
      ]
    },
    {
      "cell_type": "code",
      "metadata": {
        "id": "ACCu5iH0v0la"
      },
      "source": [
        "loss, accuracy = model.evaluate(x_val_onehot, y_val, verbose=0)"
      ],
      "execution_count": null,
      "outputs": []
    },
    {
      "cell_type": "code",
      "metadata": {
        "colab": {
          "base_uri": "https://localhost:8080/"
        },
        "id": "Mdw0b32-v7uF",
        "outputId": "06d636e3-32ef-4b39-8439-292926f12937"
      },
      "source": [
        "print(accuracy)"
      ],
      "execution_count": null,
      "outputs": [
        {
          "output_type": "stream",
          "text": [
            "0.7020000219345093\n"
          ],
          "name": "stdout"
        }
      ]
    },
    {
      "cell_type": "code",
      "metadata": {
        "id": "Dp5spOpXv9rr"
      },
      "source": [
        ""
      ],
      "execution_count": null,
      "outputs": []
    }
  ]
}