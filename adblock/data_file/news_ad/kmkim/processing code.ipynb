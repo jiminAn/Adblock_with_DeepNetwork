{
 "cells": [
  {
   "cell_type": "code",
   "execution_count": null,
   "metadata": {},
   "outputs": [],
   "source": [
    "import cv2\n",
    "import numpy as np\n",
    "from matplotlib import pyplot as plt\n",
    "\n",
    "image = cv2.imread('C:\\\\Users\\\\kimkm\\\\Desktop\\\\sample\\\\train\\\\25.png')\n",
    "\n",
    "print(image.shape)\n",
    "image_256 = cv2.resize(image, (256, 256))\n",
    "image_cvt = cv2.cvtColor(image_256, cv2.COLOR_BGR2RGB)\n",
    "print(image_cvt.shape)\n",
    "\n",
    "plt.imshow(image_cvt, cmap=\"gray\"), plt.axis(\"off\")\n",
    "plt.show()\n",
    "\n",
    "cv2.rectangle(image_cvt, (0, 0), (256, 256), (255, 255, 255), -1)\n",
    "cv2.rectangle(image_cvt, (21, 68), (37, 121), (0, 0, 0), -1) # 좌측 맨 위\n",
    "cv2.rectangle(image_cvt, (12, 129), (37, 256), (0, 0, 0), -1) # 좌측 아래\n",
    "cv2.rectangle(image_cvt, (70, 61), (183, 85), (0, 0, 0), -1) # 중앙 (짧)\n",
    "cv2.rectangle(image_cvt, (53, 61), (201, 85), (0, 0, 0), -1) # 중앙 (긺)\n",
    "#cv2.rectangle(image_cvt, (176, 26), (216, 43), (0, 0, 0), -1) # 날씨\n",
    "cv2.rectangle(image_cvt, (226, 18), (253, 69), (0, 0, 0), -1) # 우측 맨 위\n",
    "cv2.rectangle(image_cvt, (217, 67), (234, 121), (0, 0, 0), -1) # 우측 중간\n",
    "cv2.rectangle(image_cvt, (217, 129), (243, 256), (0, 0, 0), -1) # 우측 맨 아래\n",
    "\n",
    "label = image_cvt\n",
    "\n",
    "plt.imshow(label, cmap=\"gray\"), plt.axis(\"off\")\n",
    "plt.show()"
   ]
  },
  {
   "cell_type": "code",
   "execution_count": null,
   "metadata": {},
   "outputs": [],
   "source": [
    "cv2.imwrite('C:\\\\Users\\\\kimkm\\\\Desktop\\\\label\\\\labeled_25.png', label)"
   ]
  },
  {
   "cell_type": "code",
   "execution_count": null,
   "metadata": {},
   "outputs": [],
   "source": [
    "image = cv2.imread('C:\\\\Users\\\\kimkm\\\\Desktop\\\\sample\\\\train\\\\50.png')\n",
    "\n",
    "print(image.shape)\n",
    "image_256 = cv2.resize(image, (256, 256))\n",
    "image_cvt = cv2.cvtColor(image_256, cv2.COLOR_BGR2RGB)\n",
    "print(image_cvt.shape)\n",
    "\n",
    "plt.imshow(image_cvt, cmap=\"gray\"), plt.axis(\"off\")\n",
    "plt.show()\n",
    "\n",
    "cv2.rectangle(image_cvt, (0, 0), (256, 256), (255, 255, 255), -1)\n",
    "cv2.rectangle(image_cvt, (5, 99), (26, 153), (0, 0, 0), -1) # 좌측 맨 위\n",
    "cv2.rectangle(image_cvt, (5, 155), (26, 205), (0, 0, 0), -1) # 좌측 중간\n",
    "cv2.rectangle(image_cvt, (5, 207), (26, 256), (0, 0, 0), -1) # 좌측 아래 (짧)\n",
    "\n",
    "#cv2.rectangle(image_cvt, (5, 155), (26, 256), (0, 0, 0), -1) # 좌측 아래(긺)\n",
    "\n",
    "cv2.rectangle(image_cvt, (70, 17), (187, 42), (0, 0, 0), -1) #중앙 상단\n",
    "\n",
    "cv2.rectangle(image_cvt, (132, 135), (180, 201), (0, 0, 0), -1) # 중앙 하단\n",
    "#cv2.rectangle(image_cvt, (132, 148), (180, 212), (0, 0, 0), -1) # 좀 아래\n",
    "\n",
    "#cv2.rectangle(image_cvt, (144, 229), (191, 256), (0, 0, 0), -1) # 우측 맨 아래\n",
    "\n",
    "label = image_cvt\n",
    "\n",
    "plt.imshow(label, cmap=\"gray\"), plt.axis(\"off\")\n",
    "plt.show()"
   ]
  },
  {
   "cell_type": "code",
   "execution_count": null,
   "metadata": {},
   "outputs": [],
   "source": [
    "cv2.imwrite('C:\\\\Users\\\\kimkm\\\\Desktop\\\\label\\\\labeled_50.png', label)"
   ]
  }
 ],
 "metadata": {
  "kernelspec": {
   "display_name": "Python 3",
   "language": "python",
   "name": "python3"
  },
  "language_info": {
   "codemirror_mode": {
    "name": "ipython",
    "version": 3
   },
   "file_extension": ".py",
   "mimetype": "text/x-python",
   "name": "python",
   "nbconvert_exporter": "python",
   "pygments_lexer": "ipython3",
   "version": "3.8.5"
  }
 },
 "nbformat": 4,
 "nbformat_minor": 4
}
